{
 "cells": [
  {
   "cell_type": "code",
   "execution_count": 13,
   "id": "ca83650c",
   "metadata": {},
   "outputs": [],
   "source": [
    "import pandas as pd, numpy as np"
   ]
  },
  {
   "cell_type": "markdown",
   "id": "89399d4b",
   "metadata": {},
   "source": [
    "## Ensemble notebook"
   ]
  },
  {
   "cell_type": "markdown",
   "id": "c10f0bc2",
   "metadata": {},
   "source": [
    "### validation score with weight determination (Tune by orders)"
   ]
  },
  {
   "cell_type": "code",
   "execution_count": 14,
   "id": "95663661",
   "metadata": {},
   "outputs": [],
   "source": [
    "def get_recall(input_df, type_mode='orders'):\n",
    "    df = input_df.copy()\n",
    "    df['session_type'] = df['session'].apply(lambda x: str(x) + f'_{type_mode}')\n",
    "    df = df.sort_values(['session_type','score'],ascending=[True, False]).reset_index(drop=True)\n",
    "    \n",
    "\n",
    "    df['n'] = df.groupby('session_type').cumcount()\n",
    "    df = df.loc[df.n<20].drop(['n','score','session'],axis=1)\n",
    "    df['aid'] = df['aid'].astype('int32')\n",
    "    df = df.groupby('session_type')['aid'].apply(list).reset_index()\n",
    "    df['labels'] = df['aid'].map(lambda x: ''.join(str(x)[1:-1].split(',')))\n",
    "    df = df.drop(['aid'],axis=1)\n",
    "\n",
    "    sub = df.loc[df.session_type.str.contains(type_mode)].copy()\n",
    "    sub['session'] = sub.session_type.apply(lambda x: int(x.split('_')[0]))\n",
    "    sub.labels = sub.labels.apply(lambda x: [int(i) for i in x.split(' ')[:20]])\n",
    "\n",
    "    test_labels = pd.read_parquet('../data/input/otto/otto-validation/test_labels.parquet')\n",
    "    test_labels = test_labels.loc[test_labels['type']==type_mode]\n",
    "    test_labels = test_labels.merge(sub, how='left', on=['session'])\n",
    "    test_labels['labels'] = test_labels['labels'].fillna('[]')\n",
    "    test_labels['hits'] = test_labels.apply(lambda df: len(set(df.ground_truth).intersection(set(df.labels))), axis=1)\n",
    "    test_labels['gt_count'] = test_labels.ground_truth.str.len().clip(0,20)\n",
    "    recall = test_labels['hits'].sum() / test_labels['gt_count'].sum()\n",
    "    return recall\n",
    "\n",
    "def set_baseline_to_zero(df):\n",
    "    # change baseline to zero for ensemble\n",
    "    session_min_score = df.groupby('session')['score'].min()\n",
    "    session_min_score = pd.DataFrame({'session': session_min_score.index, 'min_score': session_min_score.values})\n",
    "    df = df.merge(session_min_score, on='session', how='left')\n",
    "    df['score'] = df['score'] - df['min_score']\n",
    "    df = df.drop('min_score', axis=1)\n",
    "    return df"
   ]
  },
  {
   "cell_type": "code",
   "execution_count": 15,
   "id": "eeafca7a",
   "metadata": {},
   "outputs": [],
   "source": [
    "# tetsuro order results\n",
    "path = '../logs/LB0592/score/valid_score/oof_lgbm_orders.parquet'\n",
    "df_tetsuro = pd.read_parquet(path)\n",
    "df_tetsuro = df_tetsuro[['session', 'aid', 'score']]\n",
    "df_tetsuro = set_baseline_to_zero(df_tetsuro)"
   ]
  },
  {
   "cell_type": "code",
   "execution_count": 16,
   "id": "58b84c36",
   "metadata": {},
   "outputs": [
    {
     "data": {
      "text/html": [
       "<div>\n",
       "<style scoped>\n",
       "    .dataframe tbody tr th:only-of-type {\n",
       "        vertical-align: middle;\n",
       "    }\n",
       "\n",
       "    .dataframe tbody tr th {\n",
       "        vertical-align: top;\n",
       "    }\n",
       "\n",
       "    .dataframe thead th {\n",
       "        text-align: right;\n",
       "    }\n",
       "</style>\n",
       "<table border=\"1\" class=\"dataframe\">\n",
       "  <thead>\n",
       "    <tr style=\"text-align: right;\">\n",
       "      <th></th>\n",
       "      <th>session</th>\n",
       "      <th>aid</th>\n",
       "      <th>score</th>\n",
       "    </tr>\n",
       "  </thead>\n",
       "  <tbody>\n",
       "    <tr>\n",
       "      <th>0</th>\n",
       "      <td>11098528</td>\n",
       "      <td>11830</td>\n",
       "      <td>12.622729</td>\n",
       "    </tr>\n",
       "    <tr>\n",
       "      <th>1</th>\n",
       "      <td>11098528</td>\n",
       "      <td>1732105</td>\n",
       "      <td>10.291255</td>\n",
       "    </tr>\n",
       "    <tr>\n",
       "      <th>2</th>\n",
       "      <td>11098528</td>\n",
       "      <td>588923</td>\n",
       "      <td>9.169872</td>\n",
       "    </tr>\n",
       "    <tr>\n",
       "      <th>3</th>\n",
       "      <td>11098528</td>\n",
       "      <td>876129</td>\n",
       "      <td>8.802416</td>\n",
       "    </tr>\n",
       "    <tr>\n",
       "      <th>4</th>\n",
       "      <td>11098528</td>\n",
       "      <td>884502</td>\n",
       "      <td>8.694285</td>\n",
       "    </tr>\n",
       "  </tbody>\n",
       "</table>\n",
       "</div>"
      ],
      "text/plain": [
       "    session      aid      score\n",
       "0  11098528    11830  12.622729\n",
       "1  11098528  1732105  10.291255\n",
       "2  11098528   588923   9.169872\n",
       "3  11098528   876129   8.802416\n",
       "4  11098528   884502   8.694285"
      ]
     },
     "execution_count": 16,
     "metadata": {},
     "output_type": "execute_result"
    }
   ],
   "source": [
    "df_tetsuro.head()"
   ]
  },
  {
   "cell_type": "code",
   "execution_count": 23,
   "id": "47250e89",
   "metadata": {},
   "outputs": [],
   "source": [
    "# gunes\n",
    "path = './gunes/val_predictions_order.pkl'\n",
    "df_gunes = np.load(path, allow_pickle=True)\n",
    "df_gunes = df_gunes.rename(columns={'candidates': 'aid', 'predictions': 'score'})\n",
    "df_gunes = set_baseline_to_zero(df_gunes)"
   ]
  },
  {
   "cell_type": "code",
   "execution_count": 24,
   "id": "040b638f",
   "metadata": {},
   "outputs": [
    {
     "name": "stdout",
     "output_type": "stream",
     "text": [
      "tetsuro original recall:  0.66254392712486\n",
      "gunes original recall:  0.6591414700784863\n"
     ]
    }
   ],
   "source": [
    "print('tetsuro original recall: ',get_recall(df_tetsuro) )\n",
    "print('gunes original recall: ',get_recall(df_gunes) )"
   ]
  },
  {
   "cell_type": "code",
   "execution_count": 25,
   "id": "dcb72a36",
   "metadata": {},
   "outputs": [],
   "source": [
    "# merge\n",
    "df_merged = df_tetsuro.merge(df_gunes, how = 'outer', on = ['session', 'aid'])\n",
    "df_merged['score_x']= df_merged['score_x'].fillna(0)\n",
    "df_merged['score_y']= df_merged['score_y'].fillna(0)"
   ]
  },
  {
   "cell_type": "code",
   "execution_count": 26,
   "id": "3e2ce341",
   "metadata": {},
   "outputs": [
    {
     "data": {
      "text/html": [
       "<div>\n",
       "<style scoped>\n",
       "    .dataframe tbody tr th:only-of-type {\n",
       "        vertical-align: middle;\n",
       "    }\n",
       "\n",
       "    .dataframe tbody tr th {\n",
       "        vertical-align: top;\n",
       "    }\n",
       "\n",
       "    .dataframe thead th {\n",
       "        text-align: right;\n",
       "    }\n",
       "</style>\n",
       "<table border=\"1\" class=\"dataframe\">\n",
       "  <thead>\n",
       "    <tr style=\"text-align: right;\">\n",
       "      <th></th>\n",
       "      <th>session</th>\n",
       "      <th>aid</th>\n",
       "      <th>score_x</th>\n",
       "      <th>score_y</th>\n",
       "    </tr>\n",
       "  </thead>\n",
       "  <tbody>\n",
       "    <tr>\n",
       "      <th>0</th>\n",
       "      <td>11098528</td>\n",
       "      <td>11830</td>\n",
       "      <td>12.622729</td>\n",
       "      <td>11.204971</td>\n",
       "    </tr>\n",
       "    <tr>\n",
       "      <th>1</th>\n",
       "      <td>11098528</td>\n",
       "      <td>1732105</td>\n",
       "      <td>10.291255</td>\n",
       "      <td>8.226718</td>\n",
       "    </tr>\n",
       "    <tr>\n",
       "      <th>2</th>\n",
       "      <td>11098528</td>\n",
       "      <td>588923</td>\n",
       "      <td>9.169872</td>\n",
       "      <td>7.166492</td>\n",
       "    </tr>\n",
       "    <tr>\n",
       "      <th>3</th>\n",
       "      <td>11098528</td>\n",
       "      <td>876129</td>\n",
       "      <td>8.802416</td>\n",
       "      <td>7.558273</td>\n",
       "    </tr>\n",
       "    <tr>\n",
       "      <th>4</th>\n",
       "      <td>11098528</td>\n",
       "      <td>884502</td>\n",
       "      <td>8.694285</td>\n",
       "      <td>7.278060</td>\n",
       "    </tr>\n",
       "    <tr>\n",
       "      <th>...</th>\n",
       "      <td>...</td>\n",
       "      <td>...</td>\n",
       "      <td>...</td>\n",
       "      <td>...</td>\n",
       "    </tr>\n",
       "    <tr>\n",
       "      <th>140320399</th>\n",
       "      <td>12899778</td>\n",
       "      <td>1251602</td>\n",
       "      <td>0.000000</td>\n",
       "      <td>1.284612</td>\n",
       "    </tr>\n",
       "    <tr>\n",
       "      <th>140320400</th>\n",
       "      <td>12899778</td>\n",
       "      <td>185021</td>\n",
       "      <td>0.000000</td>\n",
       "      <td>2.985011</td>\n",
       "    </tr>\n",
       "    <tr>\n",
       "      <th>140320401</th>\n",
       "      <td>12899778</td>\n",
       "      <td>1761908</td>\n",
       "      <td>0.000000</td>\n",
       "      <td>0.522776</td>\n",
       "    </tr>\n",
       "    <tr>\n",
       "      <th>140320402</th>\n",
       "      <td>12899778</td>\n",
       "      <td>977658</td>\n",
       "      <td>0.000000</td>\n",
       "      <td>2.198438</td>\n",
       "    </tr>\n",
       "    <tr>\n",
       "      <th>140320403</th>\n",
       "      <td>12899778</td>\n",
       "      <td>1852787</td>\n",
       "      <td>0.000000</td>\n",
       "      <td>2.654849</td>\n",
       "    </tr>\n",
       "  </tbody>\n",
       "</table>\n",
       "<p>140320404 rows × 4 columns</p>\n",
       "</div>"
      ],
      "text/plain": [
       "            session      aid    score_x    score_y\n",
       "0          11098528    11830  12.622729  11.204971\n",
       "1          11098528  1732105  10.291255   8.226718\n",
       "2          11098528   588923   9.169872   7.166492\n",
       "3          11098528   876129   8.802416   7.558273\n",
       "4          11098528   884502   8.694285   7.278060\n",
       "...             ...      ...        ...        ...\n",
       "140320399  12899778  1251602   0.000000   1.284612\n",
       "140320400  12899778   185021   0.000000   2.985011\n",
       "140320401  12899778  1761908   0.000000   0.522776\n",
       "140320402  12899778   977658   0.000000   2.198438\n",
       "140320403  12899778  1852787   0.000000   2.654849\n",
       "\n",
       "[140320404 rows x 4 columns]"
      ]
     },
     "execution_count": 26,
     "metadata": {},
     "output_type": "execute_result"
    }
   ],
   "source": [
    "df_merged"
   ]
  },
  {
   "cell_type": "code",
   "execution_count": 27,
   "id": "13295a29",
   "metadata": {},
   "outputs": [
    {
     "name": "stdout",
     "output_type": "stream",
     "text": [
      "weight= 0 1\n",
      "order recall:  0.6591414700784863\n",
      "weight= 0.2 0.8\n",
      "order recall:  0.6619279100423552\n",
      "weight= 0.4 0.6\n",
      "order recall:  0.663086532845201\n",
      "weight= 0.6 0.4\n",
      "order recall:  0.6636419057589618\n",
      "weight= 0.8 0.19999999999999996\n",
      "order recall:  0.6635940287836376\n",
      "weight= 1.0 0.0\n",
      "order recall:  0.6626556400672831\n"
     ]
    }
   ],
   "source": [
    "weight_list = [0, 0.2, 0.4, 0.6, 0.8, 1.0]\n",
    "for w in weight_list:\n",
    "    print('weight=', w, 1-w)\n",
    "    df_merged['score'] = df_merged['score_x'] * w  + df_merged['score_y'] * (1-w)\n",
    "    print('order recall: ',get_recall(df_merged) )\n",
    "    df_merged = df_merged.drop('score', axis=1)"
   ]
  },
  {
   "cell_type": "code",
   "execution_count": null,
   "id": "a0aa747a",
   "metadata": {},
   "outputs": [],
   "source": [
    "# memo\n",
    "# weight= 0 1 order recall:  0.6591414700784863\n",
    "# weight= 0.2 0.8 order recall:  0.6619279100423552\n",
    "# weight= 0.4 0.6 order recall:  0.663086532845201\n",
    "# weight= 0.6 0.4 order recall:  0.6636419057589618\n",
    "# weight= 0.8 0.19999999999999996 order recall:  0.6635940287836376\n",
    "# weight= 1.0 0.0 order recall:  0.6626556400672831\n"
   ]
  },
  {
   "cell_type": "markdown",
   "id": "9dee5131",
   "metadata": {},
   "source": [
    "## Submission"
   ]
  },
  {
   "cell_type": "code",
   "execution_count": 28,
   "id": "34c6d75a",
   "metadata": {},
   "outputs": [],
   "source": [
    "# TODO\n",
    "final_weight_list = [0.6, 0.4]"
   ]
  },
  {
   "cell_type": "code",
   "execution_count": null,
   "id": "41cb4683",
   "metadata": {},
   "outputs": [],
   "source": []
  }
 ],
 "metadata": {
  "kernelspec": {
   "display_name": "Python 3",
   "language": "python",
   "name": "python3"
  },
  "language_info": {
   "codemirror_mode": {
    "name": "ipython",
    "version": 3
   },
   "file_extension": ".py",
   "mimetype": "text/x-python",
   "name": "python",
   "nbconvert_exporter": "python",
   "pygments_lexer": "ipython3",
   "version": "3.8.10"
  }
 },
 "nbformat": 4,
 "nbformat_minor": 5
}
