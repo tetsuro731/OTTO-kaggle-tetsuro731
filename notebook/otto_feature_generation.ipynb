{
 "cells": [
  {
   "cell_type": "code",
   "execution_count": 1,
   "metadata": {
    "colab": {
     "base_uri": "https://localhost:8080/"
    },
    "executionInfo": {
     "elapsed": 2150,
     "status": "ok",
     "timestamp": 1674463327305,
     "user": {
      "displayName": "テッツォ",
      "userId": "07789339878611604425"
     },
     "user_tz": -540
    },
    "id": "8QrdrLFrx86e",
    "outputId": "83fce4b8-3837-4e58-ade8-923dc86b26a2"
   },
   "outputs": [],
   "source": [
    "# True: Google Colab Notebook\n",
    "# False: My local PC\n",
    "colab = False\n",
    "if colab:\n",
    "    from google.colab import drive\n",
    "    drive.mount('/content/drive')\n",
    "    !ls /content/drive/MyDrive/output/otto/\n",
    "    base_path = '/content/drive/MyDrive'\n",
    "else:\n",
    "    base_path = '../data'"
   ]
  },
  {
   "cell_type": "code",
   "execution_count": 2,
   "metadata": {
    "executionInfo": {
     "elapsed": 1283,
     "status": "ok",
     "timestamp": 1674463074813,
     "user": {
      "displayName": "テッツォ",
      "userId": "07789339878611604425"
     },
     "user_tz": -540
    },
    "id": "Q-iUtRDLpYdl"
   },
   "outputs": [],
   "source": [
    "import pandas as pd, numpy as np\n",
    "from tqdm.notebook import tqdm\n",
    "import os, sys, pickle, glob, gc\n",
    "from collections import Counter\n",
    "import itertools"
   ]
  },
  {
   "cell_type": "markdown",
   "metadata": {
    "id": "gIYBiTxOfouq"
   },
   "source": [
    "## Parameter settings"
   ]
  },
  {
   "cell_type": "code",
   "execution_count": 3,
   "metadata": {
    "executionInfo": {
     "elapsed": 3,
     "status": "ok",
     "timestamp": 1674463074814,
     "user": {
      "displayName": "テッツォ",
      "userId": "07789339878611604425"
     },
     "user_tz": -540
    },
    "id": "Pf4gQWonfqvj"
   },
   "outputs": [],
   "source": [
    "# trueならlocal cv用, falseならpred用\n",
    "valid_flag = False\n",
    "\n",
    "# 上位何件までを書き出すか\n",
    "Ntop = 50\n",
    "input_path = f'{base_path}/input/otto'\n",
    "type_weight = {0:1, 1:6, 2:3}\n",
    "output_path = f'{base_path}/output/otto'\n",
    "# メモリに乗らないので分割書き出し設定\n",
    "# for文では回さないので分割数だけこのnotebookを回す必要がある\n",
    "OUTPUT_SPLIT_NUM = 0 # 何番目の分割か,0 start\n",
    "#output_session_splits = 2 # 全体で何分割するか\n",
    "output_session_splits = 1 # 全体で何分割するか\n",
    "click_topn_list = [5, 10, 20, 30]\n",
    "cart_topn_list = [5, 15, 20]\n",
    "buy_topn_list = [5, 15, 20]\n",
    "\n",
    "\n",
    "if valid_flag:\n",
    "  input_path = input_path + '/otto-validation'\n",
    "  VER = 7\n",
    "  Ntop_buy2buy = 30\n",
    "  Ntop_carts = 30\n",
    "  Ntop_clicks = 40\n",
    "  DISK_PIECES = 4\n",
    "else:\n",
    "  input_path = input_path + '/otto-origin'\n",
    "  VER = 7\n",
    "  Ntop_buy2buy = 30\n",
    "  Ntop_carts = 30\n",
    "  Ntop_clicks = 40\n",
    "  DISK_PIECES = 4"
   ]
  },
  {
   "cell_type": "markdown",
   "metadata": {
    "id": "Aei29gOjQxQy"
   },
   "source": [
    "## Read input data"
   ]
  },
  {
   "cell_type": "code",
   "execution_count": 4,
   "metadata": {
    "colab": {
     "base_uri": "https://localhost:8080/"
    },
    "executionInfo": {
     "elapsed": 234,
     "status": "ok",
     "timestamp": 1674463082403,
     "user": {
      "displayName": "テッツォ",
      "userId": "07789339878611604425"
     },
     "user_tz": -540
    },
    "id": "YEF46NoGsohh",
    "outputId": "2379b9bc-47c9-492b-a362-344897b40efe"
   },
   "outputs": [
    {
     "name": "stdout",
     "output_type": "stream",
     "text": [
      "top_30_buy2buy_v7_0_ver0.pqt\t   top_30_carts_orders_v7_2_ver1.pqt\r\n",
      "top_30_buy2buy_v7_0_ver1.pqt\t   top_30_carts_orders_v7_3_ver0.pqt\r\n",
      "top_30_carts_orders_v7_0_ver0.pqt  top_30_carts_orders_v7_3_ver1.pqt\r\n",
      "top_30_carts_orders_v7_0_ver1.pqt  top_40_clicks_v7_0.pqt\r\n",
      "top_30_carts_orders_v7_1_ver0.pqt  top_40_clicks_v7_1.pqt\r\n",
      "top_30_carts_orders_v7_1_ver1.pqt  top_40_clicks_v7_2.pqt\r\n",
      "top_30_carts_orders_v7_2_ver0.pqt  top_40_clicks_v7_3.pqt\r\n"
     ]
    }
   ],
   "source": [
    "!ls {input_path}"
   ]
  },
  {
   "cell_type": "code",
   "execution_count": 6,
   "metadata": {
    "colab": {
     "base_uri": "https://localhost:8080/",
     "height": 225
    },
    "executionInfo": {
     "elapsed": 3016,
     "status": "ok",
     "timestamp": 1674441972580,
     "user": {
      "displayName": "テッツォ",
      "userId": "07789339878611604425"
     },
     "user_tz": -540
    },
    "id": "lK8EVD2hpvgB",
    "outputId": "575b75e0-e661-4119-e987-64769d7c770b"
   },
   "outputs": [
    {
     "name": "stdout",
     "output_type": "stream",
     "text": [
      "Test data has shape (6928123, 4)\n"
     ]
    },
    {
     "data": {
      "text/html": [
       "<div>\n",
       "<style scoped>\n",
       "    .dataframe tbody tr th:only-of-type {\n",
       "        vertical-align: middle;\n",
       "    }\n",
       "\n",
       "    .dataframe tbody tr th {\n",
       "        vertical-align: top;\n",
       "    }\n",
       "\n",
       "    .dataframe thead th {\n",
       "        text-align: right;\n",
       "    }\n",
       "</style>\n",
       "<table border=\"1\" class=\"dataframe\">\n",
       "  <thead>\n",
       "    <tr style=\"text-align: right;\">\n",
       "      <th></th>\n",
       "      <th>session</th>\n",
       "      <th>aid</th>\n",
       "      <th>ts</th>\n",
       "      <th>type</th>\n",
       "    </tr>\n",
       "  </thead>\n",
       "  <tbody>\n",
       "    <tr>\n",
       "      <th>0</th>\n",
       "      <td>13599779</td>\n",
       "      <td>1346074</td>\n",
       "      <td>1661958067</td>\n",
       "      <td>0</td>\n",
       "    </tr>\n",
       "    <tr>\n",
       "      <th>1</th>\n",
       "      <td>13599780</td>\n",
       "      <td>78453</td>\n",
       "      <td>1661958067</td>\n",
       "      <td>0</td>\n",
       "    </tr>\n",
       "    <tr>\n",
       "      <th>2</th>\n",
       "      <td>13599781</td>\n",
       "      <td>208146</td>\n",
       "      <td>1661958067</td>\n",
       "      <td>0</td>\n",
       "    </tr>\n",
       "    <tr>\n",
       "      <th>3</th>\n",
       "      <td>13599781</td>\n",
       "      <td>125499</td>\n",
       "      <td>1661958074</td>\n",
       "      <td>0</td>\n",
       "    </tr>\n",
       "    <tr>\n",
       "      <th>4</th>\n",
       "      <td>13599782</td>\n",
       "      <td>1649873</td>\n",
       "      <td>1661958068</td>\n",
       "      <td>0</td>\n",
       "    </tr>\n",
       "  </tbody>\n",
       "</table>\n",
       "</div>"
      ],
      "text/plain": [
       "    session      aid          ts  type\n",
       "0  13599779  1346074  1661958067     0\n",
       "1  13599780    78453  1661958067     0\n",
       "2  13599781   208146  1661958067     0\n",
       "3  13599781   125499  1661958074     0\n",
       "4  13599782  1649873  1661958068     0"
      ]
     },
     "execution_count": 6,
     "metadata": {},
     "output_type": "execute_result"
    }
   ],
   "source": [
    "type_labels = {'clicks':0, 'carts':1, 'orders':2}\n",
    "\n",
    "def load_test():    \n",
    "    dfs = []\n",
    "    for e, chunk_file in enumerate(glob.glob(f'{input_path}/test_parquet/*')):\n",
    "        chunk = pd.read_parquet(chunk_file)\n",
    "        chunk.ts = (chunk.ts/1000).astype('int32')\n",
    "        chunk['type'] = chunk['type'].map(type_labels).astype('int8')\n",
    "        dfs.append(chunk)\n",
    "    return pd.concat(dfs).reset_index(drop=True) #.astype({\"ts\": \"datetime64[ms]\"})\n",
    "\n",
    "test_df = load_test()\n",
    "# to reduce memory\n",
    "test_df['session'] = test_df['session'].astype('int32')\n",
    "test_df['aid'] = test_df['aid'].astype('int32')\n",
    "\n",
    "print('Test data has shape',test_df.shape)\n",
    "test_df.head()"
   ]
  },
  {
   "cell_type": "code",
   "execution_count": 7,
   "metadata": {
    "colab": {
     "base_uri": "https://localhost:8080/"
    },
    "executionInfo": {
     "elapsed": 186526,
     "status": "ok",
     "timestamp": 1674442163456,
     "user": {
      "displayName": "テッツォ",
      "userId": "07789339878611604425"
     },
     "user_tz": -540
    },
    "id": "VISRqUBtqB5B",
    "outputId": "fda98806-d39c-4106-8993-1b71e81d0f27"
   },
   "outputs": [
    {
     "name": "stdout",
     "output_type": "stream",
     "text": [
      "Here are size of our 3 co-visitation matrices:\n",
      "1837166 1168768 1158900 1837166 1837166\n",
      "CPU times: user 1min 10s, sys: 7.54 s, total: 1min 18s\n",
      "Wall time: 1min 15s\n"
     ]
    }
   ],
   "source": [
    "%%time\n",
    "# LOAD THREE CO-VISITATION MATRICES\n",
    "def pqt_to_dict(df):\n",
    "    return df.groupby('aid_x').aid_y.apply(list).to_dict()\n",
    "\n",
    "\n",
    "top_n_clicks = pqt_to_dict( pd.read_parquet(f'{input_path}/top_{Ntop_clicks}_clicks_v{VER}_0.pqt') )\n",
    "for k in range(1,DISK_PIECES): \n",
    "    top_n_clicks.update( pqt_to_dict( pd.read_parquet(f'{input_path}/top_{Ntop_clicks}_clicks_v{VER}_{k}.pqt') ) )\n",
    "\n",
    "# weight\n",
    "top_n_buys = pqt_to_dict( pd.read_parquet(f'{input_path}/top_{Ntop_carts}_carts_orders_v{VER}_0_ver0.pqt') )\n",
    "for k in range(1,DISK_PIECES): \n",
    "    top_n_buys.update( pqt_to_dict( pd.read_parquet(f'{input_path}/top_{Ntop_carts}_carts_orders_v{VER}_{k}_ver0.pqt') ) )\n",
    "# weight2\n",
    "top_n_buys2 = pqt_to_dict( pd.read_parquet(f'{input_path}/top_{Ntop_carts}_carts_orders_v{VER}_0_ver1.pqt') )\n",
    "for k in range(1,DISK_PIECES): \n",
    "    top_n_buys2.update( pqt_to_dict( pd.read_parquet(f'{input_path}/top_{Ntop_carts}_carts_orders_v{VER}_{k}_ver1.pqt') ) )\n",
    "\n",
    "# 14 days\n",
    "top_n_buy2buy = pqt_to_dict( pd.read_parquet(f'{input_path}/top_{Ntop_buy2buy}_buy2buy_v{VER}_0_ver0.pqt') )\n",
    "for k in range(1,DISK_PIECES // 4): \n",
    "    top_n_buy2buy.update( pqt_to_dict( pd.read_parquet(f'{input_path}/top_{Ntop_buy2buy}_buy2buy_v{VER}_{k}_ver0.pqt') ) )\n",
    "# 7 days\n",
    "top_n_buy2buy2 = pqt_to_dict( pd.read_parquet(f'{input_path}/top_{Ntop_buy2buy}_buy2buy_v{VER}_0_ver1.pqt') )\n",
    "for k in range(1,DISK_PIECES // 4): \n",
    "    top_n_buy2buy2.update( pqt_to_dict( pd.read_parquet(f'{input_path}/top_{Ntop_buy2buy}_buy2buy_v{VER}_{k}_ver1.pqt') ) )\n",
    "\n",
    "print('Here are size of our 3 co-visitation matrices:')\n",
    "print( len( top_n_clicks ), len( top_n_buy2buy ), len( top_n_buy2buy2 ), len( top_n_buys ),  len( top_n_buys2 ) )"
   ]
  },
  {
   "cell_type": "markdown",
   "metadata": {
    "id": "OMS0R0WwfMB0"
   },
   "source": [
    "## Popular item preparation"
   ]
  },
  {
   "cell_type": "code",
   "execution_count": 8,
   "metadata": {
    "executionInfo": {
     "elapsed": 528,
     "status": "ok",
     "timestamp": 1674442163971,
     "user": {
      "displayName": "テッツォ",
      "userId": "07789339878611604425"
     },
     "user_tz": -540
    },
    "id": "eathmiHjfTN0"
   },
   "outputs": [],
   "source": [
    "Ntop_all = 1000000\n",
    "top_clicks = test_df.loc[test_df['type']== 0,'aid'].value_counts().index.values[:Ntop_all] \n",
    "top_carts = test_df.loc[test_df['type']== 1,'aid'].value_counts().index.values[:Ntop_all]\n",
    "top_orders = test_df.loc[test_df['type']== 2,'aid'].value_counts().index.values[:Ntop_all]"
   ]
  },
  {
   "cell_type": "markdown",
   "metadata": {
    "id": "WsE9VgGufDvv"
   },
   "source": [
    "## Settings for output file split"
   ]
  },
  {
   "cell_type": "code",
   "execution_count": 9,
   "metadata": {
    "colab": {
     "base_uri": "https://localhost:8080/"
    },
    "executionInfo": {
     "elapsed": 4,
     "status": "ok",
     "timestamp": 1674442163972,
     "user": {
      "displayName": "テッツォ",
      "userId": "07789339878611604425"
     },
     "user_tz": -540
    },
    "id": "4bUbii6XfIfw",
    "outputId": "b4d3c02a-1206-4818-9def-d7ad13e92b23"
   },
   "outputs": [
    {
     "name": "stdout",
     "output_type": "stream",
     "text": [
      "OUTPUT_SPLIT_NUM= 0\n",
      "original min session: 12899779 max_session: 14571581 shape: (6928123, 4)\n",
      "output_session_splits= 1\n",
      "output_session_splits_list= [12899779]\n",
      "after min session: 12899779 max_session: 14571581 shape: (6928123, 4)\n"
     ]
    }
   ],
   "source": [
    "min_val = test_df['session'].min()\n",
    "max_val = test_df['session'].max()\n",
    "print('OUTPUT_SPLIT_NUM=', OUTPUT_SPLIT_NUM)\n",
    "print('original min session:', min_val, 'max_session:', max_val, 'shape:', test_df.shape)\n",
    "\n",
    "output_session_splits_list = [int(min_val) + int(i*(max_val - min_val) / output_session_splits) for i in range(output_session_splits)]\n",
    "print('output_session_splits=', output_session_splits)\n",
    "print('output_session_splits_list=', output_session_splits_list)\n",
    "\n",
    "if OUTPUT_SPLIT_NUM == output_session_splits - 1:\n",
    "    test_df = test_df[output_session_splits_list[OUTPUT_SPLIT_NUM] <= test_df['session']]\n",
    "else:\n",
    "    test_df = test_df[(output_session_splits_list[OUTPUT_SPLIT_NUM] <= test_df['session']) & (test_df['session'] < output_session_splits_list[OUTPUT_SPLIT_NUM + 1])]\n",
    "print('after min session:', test_df['session'].min(), 'max_session:', test_df['session'].max(), 'shape:', test_df.shape)"
   ]
  },
  {
   "cell_type": "markdown",
   "metadata": {
    "id": "is2uBAWuv9ZP"
   },
   "source": [
    "## User history"
   ]
  },
  {
   "cell_type": "code",
   "execution_count": 10,
   "metadata": {
    "executionInfo": {
     "elapsed": 2821,
     "status": "ok",
     "timestamp": 1674442191150,
     "user": {
      "displayName": "テッツォ",
      "userId": "07789339878611604425"
     },
     "user_tz": -540
    },
    "id": "DxJpB7N1vaf0"
   },
   "outputs": [],
   "source": [
    "# sortしてsessionごとの通し番号をつける\n",
    "test_df = test_df.sort_values(['session','ts'])\n",
    "test_df = test_df.reset_index(drop=True)\n",
    "test_df['ts_rank_inv'] = test_df.groupby('session').cumcount()\n",
    "\n",
    "# sessionごとの全actions数を求める\n",
    "session_df = test_df.groupby('session').size().reset_index(name='session_action_count')\n",
    "# action countはのちに重みを計算するときに使う\n",
    "test_df = test_df.merge(session_df, how = 'inner', on = 'session')"
   ]
  },
  {
   "cell_type": "code",
   "execution_count": 11,
   "metadata": {
    "executionInfo": {
     "elapsed": 279803,
     "status": "ok",
     "timestamp": 1674442476789,
     "user": {
      "displayName": "テッツォ",
      "userId": "07789339878611604425"
     },
     "user_tz": -540
    },
    "id": "ulYJWWqXSQ-t"
   },
   "outputs": [],
   "source": [
    "type_weight_multipliers = type_weight\n",
    "\n",
    "def func(df):\n",
    "  weights=np.logspace(0.1,1,df['session_action_count'],base=2, endpoint=True)-1\n",
    "  # tsでdescになっているので昇順の順位で計算する\n",
    "  return weights[df['ts_rank_inv']] * type_weight_multipliers[df['type']]\n",
    "\n",
    "test_df['score'] = test_df.apply(func, axis=1)"
   ]
  },
  {
   "cell_type": "code",
   "execution_count": 12,
   "metadata": {
    "colab": {
     "base_uri": "https://localhost:8080/",
     "height": 206
    },
    "executionInfo": {
     "elapsed": 39,
     "status": "ok",
     "timestamp": 1674442476790,
     "user": {
      "displayName": "テッツォ",
      "userId": "07789339878611604425"
     },
     "user_tz": -540
    },
    "id": "JXVhMcgXtaN9",
    "outputId": "4e34dbaa-1848-4bfc-f3e4-285d5f9e5115"
   },
   "outputs": [
    {
     "data": {
      "text/html": [
       "<div>\n",
       "<style scoped>\n",
       "    .dataframe tbody tr th:only-of-type {\n",
       "        vertical-align: middle;\n",
       "    }\n",
       "\n",
       "    .dataframe tbody tr th {\n",
       "        vertical-align: top;\n",
       "    }\n",
       "\n",
       "    .dataframe thead th {\n",
       "        text-align: right;\n",
       "    }\n",
       "</style>\n",
       "<table border=\"1\" class=\"dataframe\">\n",
       "  <thead>\n",
       "    <tr style=\"text-align: right;\">\n",
       "      <th></th>\n",
       "      <th>session</th>\n",
       "      <th>aid</th>\n",
       "      <th>ts</th>\n",
       "      <th>type</th>\n",
       "      <th>ts_rank_inv</th>\n",
       "      <th>session_action_count</th>\n",
       "      <th>score</th>\n",
       "    </tr>\n",
       "  </thead>\n",
       "  <tbody>\n",
       "    <tr>\n",
       "      <th>0</th>\n",
       "      <td>12899779</td>\n",
       "      <td>59625</td>\n",
       "      <td>1661724000</td>\n",
       "      <td>0</td>\n",
       "      <td>0</td>\n",
       "      <td>1</td>\n",
       "      <td>0.071773</td>\n",
       "    </tr>\n",
       "    <tr>\n",
       "      <th>1</th>\n",
       "      <td>12899780</td>\n",
       "      <td>1142000</td>\n",
       "      <td>1661724000</td>\n",
       "      <td>0</td>\n",
       "      <td>0</td>\n",
       "      <td>5</td>\n",
       "      <td>0.071773</td>\n",
       "    </tr>\n",
       "    <tr>\n",
       "      <th>2</th>\n",
       "      <td>12899780</td>\n",
       "      <td>582732</td>\n",
       "      <td>1661724058</td>\n",
       "      <td>0</td>\n",
       "      <td>1</td>\n",
       "      <td>5</td>\n",
       "      <td>0.252664</td>\n",
       "    </tr>\n",
       "    <tr>\n",
       "      <th>3</th>\n",
       "      <td>12899780</td>\n",
       "      <td>973453</td>\n",
       "      <td>1661724109</td>\n",
       "      <td>0</td>\n",
       "      <td>2</td>\n",
       "      <td>5</td>\n",
       "      <td>0.464086</td>\n",
       "    </tr>\n",
       "    <tr>\n",
       "      <th>4</th>\n",
       "      <td>12899780</td>\n",
       "      <td>736515</td>\n",
       "      <td>1661724136</td>\n",
       "      <td>0</td>\n",
       "      <td>3</td>\n",
       "      <td>5</td>\n",
       "      <td>0.711190</td>\n",
       "    </tr>\n",
       "  </tbody>\n",
       "</table>\n",
       "</div>"
      ],
      "text/plain": [
       "    session      aid          ts  type  ts_rank_inv  session_action_count  \\\n",
       "0  12899779    59625  1661724000     0            0                     1   \n",
       "1  12899780  1142000  1661724000     0            0                     5   \n",
       "2  12899780   582732  1661724058     0            1                     5   \n",
       "3  12899780   973453  1661724109     0            2                     5   \n",
       "4  12899780   736515  1661724136     0            3                     5   \n",
       "\n",
       "      score  \n",
       "0  0.071773  \n",
       "1  0.071773  \n",
       "2  0.252664  \n",
       "3  0.464086  \n",
       "4  0.711190  "
      ]
     },
     "execution_count": 12,
     "metadata": {},
     "output_type": "execute_result"
    }
   ],
   "source": [
    "test_df.head()"
   ]
  },
  {
   "cell_type": "code",
   "execution_count": 13,
   "metadata": {
    "colab": {
     "base_uri": "https://localhost:8080/"
    },
    "executionInfo": {
     "elapsed": 39571,
     "status": "ok",
     "timestamp": 1674461174638,
     "user": {
      "displayName": "テッツォ",
      "userId": "07789339878611604425"
     },
     "user_tz": -540
    },
    "id": "c2OBfGHhvXkQ",
    "outputId": "98ee516b-44ba-4781-9cfa-302526402929"
   },
   "outputs": [
    {
     "data": {
      "text/plain": [
       "0"
      ]
     },
     "execution_count": 13,
     "metadata": {},
     "output_type": "execute_result"
    }
   ],
   "source": [
    "# それぞれのscoreを記録する\n",
    "test_group1 = test_df[['session','aid','score']].groupby(['session','aid'])['score'].sum().reset_index(name ='score_click')\n",
    "test_group2 = test_df.query('type==0 or type==1')[['session','aid','score']].groupby(['session','aid'])['score'].sum().reset_index(name ='score_cart')\n",
    "test_group3 = test_df.query('type==1 or type==2')[['session','aid','score']].groupby(['session','aid'])['score'].sum().reset_index(name ='score_buy')\n",
    "test_group4 = test_df.query('type==0')[['session','aid','score']].groupby(['session','aid'])['score'].sum().reset_index(name ='score_click_only')\n",
    "test_group5 = test_df.query('type==1')[['session','aid','score']].groupby(['session','aid'])['score'].sum().reset_index(name ='score_cart_only')\n",
    "test_group6 = test_df.query('type==2')[['session','aid','score']].groupby(['session','aid'])['score'].sum().reset_index(name ='score_buy_only')\n",
    "\n",
    "# cart, buyがnullの場合は0で埋める\n",
    "test_group = test_group1.merge(test_group2, how = 'left', on = ['session','aid']).merge(test_group3, how = 'left', on = ['session','aid']).merge(test_group4, how = 'left', on = ['session','aid']).merge(test_group5, how = 'left', on = ['session','aid']).merge(test_group6, how = 'left', on = ['session','aid']).fillna(0)\n",
    "# session情報を付与\n",
    "test_group = test_group.merge(session_df, how = 'inner', on = 'session')\n",
    "\n",
    "del test_group1, test_group2, test_group3, test_group4, test_group5, test_group6, session_df\n",
    "gc.collect()"
   ]
  },
  {
   "cell_type": "code",
   "execution_count": 14,
   "metadata": {
    "colab": {
     "base_uri": "https://localhost:8080/"
    },
    "executionInfo": {
     "elapsed": 17,
     "status": "ok",
     "timestamp": 1674461174639,
     "user": {
      "displayName": "テッツォ",
      "userId": "07789339878611604425"
     },
     "user_tz": -540
    },
    "id": "wBTz_dQzhGUL",
    "outputId": "93716e7b-0af0-4576-fb16-fadb72dba9c5"
   },
   "outputs": [
    {
     "data": {
      "text/plain": [
       "count    1.671803e+06\n",
       "mean     2.994705e+00\n",
       "std      5.113723e+00\n",
       "min      1.000000e+00\n",
       "25%      1.000000e+00\n",
       "50%      1.000000e+00\n",
       "75%      3.000000e+00\n",
       "max      4.330000e+02\n",
       "dtype: float64"
      ]
     },
     "execution_count": 14,
     "metadata": {},
     "output_type": "execute_result"
    }
   ],
   "source": [
    "test_group.groupby('session').size().describe()"
   ]
  },
  {
   "cell_type": "code",
   "execution_count": 15,
   "metadata": {
    "colab": {
     "base_uri": "https://localhost:8080/",
     "height": 225
    },
    "executionInfo": {
     "elapsed": 12,
     "status": "ok",
     "timestamp": 1674461174639,
     "user": {
      "displayName": "テッツォ",
      "userId": "07789339878611604425"
     },
     "user_tz": -540
    },
    "id": "dv--YvLHwDCk",
    "outputId": "ccd6e865-b0cf-4a81-e5ea-8c96d8d9727c"
   },
   "outputs": [
    {
     "name": "stdout",
     "output_type": "stream",
     "text": [
      "(5006557, 9)\n"
     ]
    },
    {
     "data": {
      "text/html": [
       "<div>\n",
       "<style scoped>\n",
       "    .dataframe tbody tr th:only-of-type {\n",
       "        vertical-align: middle;\n",
       "    }\n",
       "\n",
       "    .dataframe tbody tr th {\n",
       "        vertical-align: top;\n",
       "    }\n",
       "\n",
       "    .dataframe thead th {\n",
       "        text-align: right;\n",
       "    }\n",
       "</style>\n",
       "<table border=\"1\" class=\"dataframe\">\n",
       "  <thead>\n",
       "    <tr style=\"text-align: right;\">\n",
       "      <th></th>\n",
       "      <th>session</th>\n",
       "      <th>aid</th>\n",
       "      <th>score_click</th>\n",
       "      <th>score_cart</th>\n",
       "      <th>score_buy</th>\n",
       "      <th>score_click_only</th>\n",
       "      <th>score_cart_only</th>\n",
       "      <th>score_buy_only</th>\n",
       "      <th>session_action_count</th>\n",
       "    </tr>\n",
       "  </thead>\n",
       "  <tbody>\n",
       "    <tr>\n",
       "      <th>0</th>\n",
       "      <td>12899779</td>\n",
       "      <td>59625</td>\n",
       "      <td>0.071773</td>\n",
       "      <td>0.071773</td>\n",
       "      <td>0.0</td>\n",
       "      <td>0.071773</td>\n",
       "      <td>0.0</td>\n",
       "      <td>0.0</td>\n",
       "      <td>1</td>\n",
       "    </tr>\n",
       "    <tr>\n",
       "      <th>1</th>\n",
       "      <td>12899780</td>\n",
       "      <td>582732</td>\n",
       "      <td>0.252664</td>\n",
       "      <td>0.252664</td>\n",
       "      <td>0.0</td>\n",
       "      <td>0.252664</td>\n",
       "      <td>0.0</td>\n",
       "      <td>0.0</td>\n",
       "      <td>5</td>\n",
       "    </tr>\n",
       "    <tr>\n",
       "      <th>2</th>\n",
       "      <td>12899780</td>\n",
       "      <td>736515</td>\n",
       "      <td>0.711190</td>\n",
       "      <td>0.711190</td>\n",
       "      <td>0.0</td>\n",
       "      <td>0.711190</td>\n",
       "      <td>0.0</td>\n",
       "      <td>0.0</td>\n",
       "      <td>5</td>\n",
       "    </tr>\n",
       "    <tr>\n",
       "      <th>3</th>\n",
       "      <td>12899780</td>\n",
       "      <td>973453</td>\n",
       "      <td>0.464086</td>\n",
       "      <td>0.464086</td>\n",
       "      <td>0.0</td>\n",
       "      <td>0.464086</td>\n",
       "      <td>0.0</td>\n",
       "      <td>0.0</td>\n",
       "      <td>5</td>\n",
       "    </tr>\n",
       "    <tr>\n",
       "      <th>4</th>\n",
       "      <td>12899780</td>\n",
       "      <td>1142000</td>\n",
       "      <td>1.071773</td>\n",
       "      <td>1.071773</td>\n",
       "      <td>0.0</td>\n",
       "      <td>1.071773</td>\n",
       "      <td>0.0</td>\n",
       "      <td>0.0</td>\n",
       "      <td>5</td>\n",
       "    </tr>\n",
       "  </tbody>\n",
       "</table>\n",
       "</div>"
      ],
      "text/plain": [
       "    session      aid  score_click  score_cart  score_buy  score_click_only  \\\n",
       "0  12899779    59625     0.071773    0.071773        0.0          0.071773   \n",
       "1  12899780   582732     0.252664    0.252664        0.0          0.252664   \n",
       "2  12899780   736515     0.711190    0.711190        0.0          0.711190   \n",
       "3  12899780   973453     0.464086    0.464086        0.0          0.464086   \n",
       "4  12899780  1142000     1.071773    1.071773        0.0          1.071773   \n",
       "\n",
       "   score_cart_only  score_buy_only  session_action_count  \n",
       "0              0.0             0.0                     1  \n",
       "1              0.0             0.0                     5  \n",
       "2              0.0             0.0                     5  \n",
       "3              0.0             0.0                     5  \n",
       "4              0.0             0.0                     5  "
      ]
     },
     "execution_count": 15,
     "metadata": {},
     "output_type": "execute_result"
    }
   ],
   "source": [
    "print(test_group.shape)\n",
    "test_group.head()"
   ]
  },
  {
   "cell_type": "code",
   "execution_count": 16,
   "metadata": {
    "executionInfo": {
     "elapsed": 412,
     "status": "ok",
     "timestamp": 1674461175043,
     "user": {
      "displayName": "テッツォ",
      "userId": "07789339878611604425"
     },
     "user_tz": -540
    },
    "id": "k4VvuBm-pKpc"
   },
   "outputs": [],
   "source": [
    "# メモリ削減1\n",
    "test_group['score_click'] = test_group['score_click'].astype('float32')\n",
    "test_group['score_cart'] = test_group['score_cart'].astype('float32')\n",
    "test_group['score_buy'] = test_group['score_buy'].astype('float32')\n",
    "test_group['score_click_only'] = test_group['score_click_only'].astype('float32')\n",
    "test_group['score_cart_only'] = test_group['score_cart_only'].astype('float32')\n",
    "test_group['score_buy_only'] = test_group['score_buy_only'].astype('float32')\n",
    "test_group['session_action_count'] = test_group['session_action_count'].astype('int16')"
   ]
  },
  {
   "cell_type": "markdown",
   "metadata": {
    "id": "5eXfhKBvxubh"
   },
   "source": [
    "## Candidate Generation by Co-Visitation Matrix"
   ]
  },
  {
   "cell_type": "code",
   "execution_count": 17,
   "metadata": {
    "executionInfo": {
     "elapsed": 4,
     "status": "ok",
     "timestamp": 1674461175043,
     "user": {
      "displayName": "テッツォ",
      "userId": "07789339878611604425"
     },
     "user_tz": -540
    },
    "id": "s8awt0k6cNvx"
   },
   "outputs": [],
   "source": [
    "def get_expand_df(df, name):\n",
    "    df = pd.DataFrame(df, columns=[\"lis\"]).reset_index()\n",
    "    ex_df = df.explode(\"lis\").reset_index(drop=True)\n",
    "    ex_df[name] = ex_df.groupby('session').cumcount().astype('int8')\n",
    "    return ex_df"
   ]
  },
  {
   "cell_type": "code",
   "execution_count": 18,
   "metadata": {
    "executionInfo": {
     "elapsed": 3,
     "status": "ok",
     "timestamp": 1674461175043,
     "user": {
      "displayName": "テッツォ",
      "userId": "07789339878611604425"
     },
     "user_tz": -540
    },
    "id": "0_VdmeW8Hx-P"
   },
   "outputs": [],
   "source": [
    "# Nclicksはtop_n_clicksの上位何件までを考慮するか、baseline: 20\n",
    "def suggest_clicks(df, Nclicks):\n",
    "    aids=df.aid.tolist()\n",
    "    # 長すぎる場合は上限で切る\n",
    "    unique_aids = list(dict.fromkeys(aids[::-1] ))[:Ntop]\n",
    "    aids2 = list(itertools.chain(*[top_n_clicks[aid][:Nclicks] for aid in unique_aids if aid in top_n_clicks]))\n",
    "    # RERANK CANDIDATES\n",
    "    top_aids2 = [aid2 for aid2, cnt in Counter(aids2).most_common(Ntop)]\n",
    "    result = top_aids2[:Ntop]\n",
    "\n",
    "    return result"
   ]
  },
  {
   "cell_type": "code",
   "execution_count": 19,
   "metadata": {
    "colab": {
     "base_uri": "https://localhost:8080/"
    },
    "executionInfo": {
     "elapsed": 532241,
     "status": "ok",
     "timestamp": 1674461707281,
     "user": {
      "displayName": "テッツォ",
      "userId": "07789339878611604425"
     },
     "user_tz": -540
    },
    "id": "OJO9jK_re76s",
    "outputId": "b1bedd1f-df82-4873-c902-de7f4e4f4f14"
   },
   "outputs": [
    {
     "name": "stdout",
     "output_type": "stream",
     "text": [
      "i, val= 0 5 .........\n",
      "i, val= 1 10 .........\n"
     ]
    },
    {
     "name": "stderr",
     "output_type": "stream",
     "text": [
      "/home/tetsuro/.local/lib/python3.8/site-packages/pandas/core/reshape/merge.py:916: FutureWarning: In a future version, the Index constructor will not infer numeric dtypes when passed object-dtype sequences (matching Series behavior)\n",
      "  key_col = Index(lvals).where(~mask_left, rvals)\n"
     ]
    },
    {
     "name": "stdout",
     "output_type": "stream",
     "text": [
      "i, val= 2 20 .........\n"
     ]
    },
    {
     "name": "stderr",
     "output_type": "stream",
     "text": [
      "/home/tetsuro/.local/lib/python3.8/site-packages/pandas/core/reshape/merge.py:916: FutureWarning: In a future version, the Index constructor will not infer numeric dtypes when passed object-dtype sequences (matching Series behavior)\n",
      "  key_col = Index(lvals).where(~mask_left, rvals)\n"
     ]
    },
    {
     "name": "stdout",
     "output_type": "stream",
     "text": [
      "i, val= 3 30 .........\n"
     ]
    },
    {
     "name": "stderr",
     "output_type": "stream",
     "text": [
      "/home/tetsuro/.local/lib/python3.8/site-packages/pandas/core/reshape/merge.py:916: FutureWarning: In a future version, the Index constructor will not infer numeric dtypes when passed object-dtype sequences (matching Series behavior)\n",
      "  key_col = Index(lvals).where(~mask_left, rvals)\n"
     ]
    },
    {
     "name": "stdout",
     "output_type": "stream",
     "text": [
      "mean size: 44.444440189990615\n",
      "shape: (74286704, 6)\n"
     ]
    }
   ],
   "source": [
    "# 4パターン\n",
    "for i, val in enumerate(click_topn_list):\n",
    "    print('i, val=', i, val,'.........')\n",
    "\n",
    "    df_clicks_tmp = test_df.sort_values([\"session\", \"ts\"]).groupby([\"session\"]).apply(\n",
    "        lambda x: suggest_clicks(x, val)\n",
    "    )\n",
    "    df_clicks_tmp = get_expand_df(df_clicks_tmp, f'n_clicks_{val}')\n",
    "    df_clicks_tmp = df_clicks_tmp[df_clicks_tmp['lis'].notnull()]\n",
    "    if i == 0:\n",
    "        df_clicks = df_clicks_tmp.copy()\n",
    "    else:\n",
    "        df_clicks = df_clicks.merge(df_clicks_tmp, how = 'outer', on = ['session','lis'])\n",
    "    del df_clicks_tmp\n",
    "    gc.collect()\n",
    "# floatになってたりするのでcastし直し\n",
    "df_clicks['session'] = df_clicks['session'].astype('int32')\n",
    "df_clicks['lis'] = df_clicks['lis'].astype('int32')\n",
    "for i, val in enumerate(click_topn_list):\n",
    "    df_clicks[f'n_clicks_{val}'] = df_clicks[f'n_clicks_{val}'].fillna(-1).astype('int8')\n",
    "print('mean size:', df_clicks.groupby('session').size().mean())\n",
    "print('shape:', df_clicks.shape)"
   ]
  },
  {
   "cell_type": "code",
   "execution_count": 20,
   "metadata": {
    "colab": {
     "base_uri": "https://localhost:8080/"
    },
    "executionInfo": {
     "elapsed": 746906,
     "status": "ok",
     "timestamp": 1674462454172,
     "user": {
      "displayName": "テッツォ",
      "userId": "07789339878611604425"
     },
     "user_tz": -540
    },
    "id": "cbgpMUryO0a2",
    "outputId": "aba83fe2-0fa1-4649-c0df-38732da0a12b"
   },
   "outputs": [
    {
     "name": "stdout",
     "output_type": "stream",
     "text": [
      "i= 0 val= 5 ver= 0 .........\n",
      "i= 0 val= 5 ver= 1 .........\n"
     ]
    },
    {
     "name": "stderr",
     "output_type": "stream",
     "text": [
      "/home/tetsuro/.local/lib/python3.8/site-packages/pandas/core/reshape/merge.py:916: FutureWarning: In a future version, the Index constructor will not infer numeric dtypes when passed object-dtype sequences (matching Series behavior)\n",
      "  key_col = Index(lvals).where(~mask_left, rvals)\n"
     ]
    },
    {
     "name": "stdout",
     "output_type": "stream",
     "text": [
      "i= 1 val= 15 ver= 0 .........\n"
     ]
    },
    {
     "name": "stderr",
     "output_type": "stream",
     "text": [
      "/home/tetsuro/.local/lib/python3.8/site-packages/pandas/core/reshape/merge.py:916: FutureWarning: In a future version, the Index constructor will not infer numeric dtypes when passed object-dtype sequences (matching Series behavior)\n",
      "  key_col = Index(lvals).where(~mask_left, rvals)\n"
     ]
    },
    {
     "name": "stdout",
     "output_type": "stream",
     "text": [
      "i= 1 val= 15 ver= 1 .........\n"
     ]
    },
    {
     "name": "stderr",
     "output_type": "stream",
     "text": [
      "/home/tetsuro/.local/lib/python3.8/site-packages/pandas/core/reshape/merge.py:916: FutureWarning: In a future version, the Index constructor will not infer numeric dtypes when passed object-dtype sequences (matching Series behavior)\n",
      "  key_col = Index(lvals).where(~mask_left, rvals)\n"
     ]
    },
    {
     "name": "stdout",
     "output_type": "stream",
     "text": [
      "i= 2 val= 20 ver= 0 .........\n"
     ]
    },
    {
     "name": "stderr",
     "output_type": "stream",
     "text": [
      "/home/tetsuro/.local/lib/python3.8/site-packages/pandas/core/reshape/merge.py:916: FutureWarning: In a future version, the Index constructor will not infer numeric dtypes when passed object-dtype sequences (matching Series behavior)\n",
      "  key_col = Index(lvals).where(~mask_left, rvals)\n"
     ]
    },
    {
     "name": "stdout",
     "output_type": "stream",
     "text": [
      "i= 2 val= 20 ver= 1 .........\n"
     ]
    },
    {
     "name": "stderr",
     "output_type": "stream",
     "text": [
      "/home/tetsuro/.local/lib/python3.8/site-packages/pandas/core/reshape/merge.py:916: FutureWarning: In a future version, the Index constructor will not infer numeric dtypes when passed object-dtype sequences (matching Series behavior)\n",
      "  key_col = Index(lvals).where(~mask_left, rvals)\n"
     ]
    },
    {
     "name": "stdout",
     "output_type": "stream",
     "text": [
      "mean size: 39.05817639882952\n",
      "shape: (65283828, 8)\n"
     ]
    }
   ],
   "source": [
    "# Nbuysはtop_n_buysの上位何件までを考慮するか、baseline: 15\n",
    "# ver=0: weight, ver1: weight2\n",
    "def suggest_carts(df, Nbuys, ver=0):\n",
    "    # 長すぎる場合は上限で切る\n",
    "    unique_aids = list(dict.fromkeys(df.aid.tolist()[::-1] ))[:Ntop]\n",
    "\n",
    "    # Use \"cart order\" co-visitation matrices\n",
    "    if ver == 0:\n",
    "        aids2 = list(itertools.chain(*[top_n_buys[aid][:Nbuys] for aid in unique_aids if aid in top_n_buys]))\n",
    "    else:\n",
    "        aids2 = list(itertools.chain(*[top_n_buys2[aid][:Nbuys] for aid in unique_aids if aid in top_n_buys2]))\n",
    "    # RERANK CANDIDATES\n",
    "    top_aids2 = [aid2 for aid2, cnt in Counter(aids2).most_common(Ntop)] \n",
    "    return top_aids2[:Ntop]\n",
    "\n",
    "\n",
    "# 3パターン * 2\n",
    "for i, val in enumerate(cart_topn_list):\n",
    "    for j in range(2):\n",
    "        print('i=', i, 'val=', val, 'ver=', j, '.........')\n",
    "        df_carts_tmp = test_df.sort_values([\"session\", \"ts\"]).groupby([\"session\"]).apply(\n",
    "            lambda x: suggest_carts(x, val, j)\n",
    "        )\n",
    "        df_carts_tmp = get_expand_df(df_carts_tmp, f'n_carts_{val}_ver{j}')\n",
    "        df_carts_tmp = df_carts_tmp[df_carts_tmp['lis'].notnull()]\n",
    "        if i == 0 and j == 0:\n",
    "            df_carts = df_carts_tmp.copy()\n",
    "        else:\n",
    "            df_carts = df_carts.merge(df_carts_tmp, how = 'outer', on = ['session','lis'])\n",
    "        del df_carts_tmp\n",
    "        gc.collect()\n",
    "\n",
    "        df_carts[f'n_carts_{val}_ver{j}'] = df_carts[f'n_carts_{val}_ver{j}'].fillna(-1).astype('int8')\n",
    "# floatになってたりするのでcastし直し\n",
    "df_carts['session'] = df_carts['session'].astype('int32')\n",
    "df_carts['lis'] = df_carts['lis'].astype('int32')\n",
    "for i, val in enumerate(cart_topn_list):\n",
    "    for j in range(2):\n",
    "        df_carts[f'n_carts_{val}_ver{j}'] = df_carts[f'n_carts_{val}_ver{j}'].fillna(-1).astype('int8')\n",
    "print('mean size:', df_carts.groupby('session').size().mean())\n",
    "print('shape:', df_carts.shape)"
   ]
  },
  {
   "cell_type": "code",
   "execution_count": 21,
   "metadata": {
    "colab": {
     "base_uri": "https://localhost:8080/"
    },
    "executionInfo": {
     "elapsed": 115483,
     "status": "ok",
     "timestamp": 1674462569629,
     "user": {
      "displayName": "テッツォ",
      "userId": "07789339878611604425"
     },
     "user_tz": -540
    },
    "id": "qHyMD8nOPo4N",
    "outputId": "52a286f8-68ac-4046-c83b-519435cab00b"
   },
   "outputs": [
    {
     "name": "stdout",
     "output_type": "stream",
     "text": [
      "i= 0 val= 5 ver= 0 .........\n",
      "i= 0 val= 5 ver= 1 .........\n"
     ]
    },
    {
     "name": "stderr",
     "output_type": "stream",
     "text": [
      "/home/tetsuro/.local/lib/python3.8/site-packages/pandas/core/reshape/merge.py:916: FutureWarning: In a future version, the Index constructor will not infer numeric dtypes when passed object-dtype sequences (matching Series behavior)\n",
      "  key_col = Index(lvals).where(~mask_left, rvals)\n"
     ]
    },
    {
     "name": "stdout",
     "output_type": "stream",
     "text": [
      "i= 1 val= 15 ver= 0 .........\n"
     ]
    },
    {
     "name": "stderr",
     "output_type": "stream",
     "text": [
      "/home/tetsuro/.local/lib/python3.8/site-packages/pandas/core/reshape/merge.py:916: FutureWarning: In a future version, the Index constructor will not infer numeric dtypes when passed object-dtype sequences (matching Series behavior)\n",
      "  key_col = Index(lvals).where(~mask_left, rvals)\n"
     ]
    },
    {
     "name": "stdout",
     "output_type": "stream",
     "text": [
      "i= 1 val= 15 ver= 1 .........\n"
     ]
    },
    {
     "name": "stderr",
     "output_type": "stream",
     "text": [
      "/home/tetsuro/.local/lib/python3.8/site-packages/pandas/core/reshape/merge.py:916: FutureWarning: In a future version, the Index constructor will not infer numeric dtypes when passed object-dtype sequences (matching Series behavior)\n",
      "  key_col = Index(lvals).where(~mask_left, rvals)\n"
     ]
    },
    {
     "name": "stdout",
     "output_type": "stream",
     "text": [
      "i= 2 val= 20 ver= 0 .........\n"
     ]
    },
    {
     "name": "stderr",
     "output_type": "stream",
     "text": [
      "/home/tetsuro/.local/lib/python3.8/site-packages/pandas/core/reshape/merge.py:916: FutureWarning: In a future version, the Index constructor will not infer numeric dtypes when passed object-dtype sequences (matching Series behavior)\n",
      "  key_col = Index(lvals).where(~mask_left, rvals)\n"
     ]
    },
    {
     "name": "stdout",
     "output_type": "stream",
     "text": [
      "i= 2 val= 20 ver= 1 .........\n"
     ]
    },
    {
     "name": "stderr",
     "output_type": "stream",
     "text": [
      "/home/tetsuro/.local/lib/python3.8/site-packages/pandas/core/reshape/merge.py:916: FutureWarning: In a future version, the Index constructor will not infer numeric dtypes when passed object-dtype sequences (matching Series behavior)\n",
      "  key_col = Index(lvals).where(~mask_left, rvals)\n"
     ]
    },
    {
     "name": "stdout",
     "output_type": "stream",
     "text": [
      "mean size: 33.34943251425463\n",
      "shape: (8030510, 8)\n"
     ]
    }
   ],
   "source": [
    "# Nbuy2buyはtop_n_buy2buyの上位何件までを考慮するか、baseline: 15\n",
    "def suggest_buys(df, Nbuy2buy, ver=0):\n",
    "    # 長すぎる場合は上限で切る\n",
    "    unique_buys = list(dict.fromkeys( df.aid.tolist()[::-1] ))[:Ntop]\n",
    "\n",
    "    # USE \"BUY2BUY\" CO-VISITATION MATRIX\n",
    "    if ver == 0:\n",
    "        aids3 = list(itertools.chain(*[top_n_buy2buy[aid][:Nbuy2buy] for aid in unique_buys if aid in top_n_buy2buy]))\n",
    "    else:\n",
    "        aids3 = list(itertools.chain(*[top_n_buy2buy2[aid][:Nbuy2buy] for aid in unique_buys if aid in top_n_buy2buy2]))\n",
    "\n",
    "    # RERANK CANDIDATES\n",
    "    top_aids2 = [aid2 for aid2, cnt in Counter(aids3).most_common(Ntop)] \n",
    "    return top_aids2[:Ntop]    \n",
    "\n",
    "\n",
    "# 3パターン * 2\n",
    "for i, val in enumerate(buy_topn_list):\n",
    "    for j in range(2):\n",
    "        print('i=', i, 'val=', val, 'ver=', j, '.........')\n",
    "        # type=1or2に絞ってからapply\n",
    "        #df_buys_tmp = test_df.sort_values([\"session\", \"ts\"]).groupby([\"session\"]).apply(\n",
    "        df_buys_tmp = test_df.loc[(test_df['type']==1)|(test_df['type']==2)].sort_values([\"session\", \"ts\"]).groupby([\"session\"]).apply(\n",
    "            lambda x: suggest_buys(x, val, j)\n",
    "        )\n",
    "        df_buys_tmp = get_expand_df(df_buys_tmp, f'n_buys_{val}_ver{j}')\n",
    "        df_buys_tmp = df_buys_tmp[df_buys_tmp['lis'].notnull()]\n",
    "        if i == 0 and j == 0:\n",
    "            df_buys = df_buys_tmp.copy()\n",
    "        else:\n",
    "            df_buys = df_buys.merge(df_buys_tmp, how = 'outer', on = ['session','lis'])\n",
    "        del df_buys_tmp\n",
    "        gc.collect()\n",
    "\n",
    "        df_buys[f'n_buys_{val}_ver{j}'] = df_buys[f'n_buys_{val}_ver{j}'].fillna(-1).astype('int8')\n",
    "# floatになってたりするのでcastし直し\n",
    "df_buys['session'] = df_buys['session'].astype('int32')\n",
    "df_buys['lis'] = df_buys['lis'].astype('int32')\n",
    "for i, val in enumerate(buy_topn_list):\n",
    "    for j in range(2):\n",
    "        df_buys[f'n_buys_{val}_ver{j}'] = df_buys[f'n_buys_{val}_ver{j}'].fillna(-1).astype('int8')\n",
    "print('mean size:', df_buys.groupby('session').size().mean())\n",
    "print('shape:', df_buys.shape)"
   ]
  },
  {
   "cell_type": "code",
   "execution_count": 22,
   "metadata": {
    "executionInfo": {
     "elapsed": 95816,
     "status": "ok",
     "timestamp": 1674462665426,
     "user": {
      "displayName": "テッツォ",
      "userId": "07789339878611604425"
     },
     "user_tz": -540
    },
    "id": "mb5zEr9CgGuJ"
   },
   "outputs": [],
   "source": [
    "ex_df_all = df_clicks.merge(df_carts, how = 'outer', on = ['session','lis']).merge(df_buys, how = 'outer', on = ['session','lis'])\n",
    "del df_clicks, df_carts, df_buys\n",
    "gc.collect()\n",
    "ex_df_all = ex_df_all.rename(columns={'lis': 'aid'})"
   ]
  },
  {
   "cell_type": "code",
   "execution_count": 23,
   "metadata": {
    "colab": {
     "base_uri": "https://localhost:8080/"
    },
    "executionInfo": {
     "elapsed": 59613,
     "status": "ok",
     "timestamp": 1674462725017,
     "user": {
      "displayName": "テッツォ",
      "userId": "07789339878611604425"
     },
     "user_tz": -540
    },
    "id": "X_Rm60SvOeYa",
    "outputId": "89daa1fe-bf05-4e1c-a769-88a3df0e4f51"
   },
   "outputs": [
    {
     "data": {
      "text/plain": [
       "0"
      ]
     },
     "execution_count": 23,
     "metadata": {},
     "output_type": "execute_result"
    }
   ],
   "source": [
    "test_group = test_group.merge(ex_df_all, how='outer', on = ['session', 'aid'])\n",
    "del ex_df_all\n",
    "gc.collect()"
   ]
  },
  {
   "cell_type": "code",
   "execution_count": 24,
   "metadata": {
    "id": "mAiFxzZJbr4X"
   },
   "outputs": [],
   "source": [
    "# メモリ削減, NaNがあるとJOINなどの行程でfloatになったりするのでちゃんと欠損値埋める\n",
    "def reduce_memory(df):\n",
    "    df['session'] = df['session'].astype('int32')\n",
    "    df['aid'] = df['aid'].astype('int32')\n",
    "    df['session_action_count'] = df['session_action_count'].fillna(0).astype('int16')\n",
    "    \n",
    "    for i in click_topn_list:\n",
    "        df[f'n_clicks_{i}'] = df[f'n_clicks_{i}'].fillna(-1).astype('int8')\n",
    "    \n",
    "    for i, val in enumerate(cart_topn_list):\n",
    "        for j in range(2):\n",
    "            df[f'n_carts_{val}_ver{j}'] = df[f'n_carts_{val}_ver{j}'].fillna(-1).astype('int8')\n",
    "    for i, val in enumerate(buy_topn_list):\n",
    "        for j in range(2):\n",
    "            df[f'n_buys_{val}_ver{j}'] = df[f'n_buys_{val}_ver{j}'].fillna(-1).astype('int8')\n",
    "    return df"
   ]
  },
  {
   "cell_type": "code",
   "execution_count": 25,
   "metadata": {
    "executionInfo": {
     "elapsed": 7,
     "status": "aborted",
     "timestamp": 1674462745181,
     "user": {
      "displayName": "テッツォ",
      "userId": "07789339878611604425"
     },
     "user_tz": -540
    },
    "id": "54xYBu9xocXY"
   },
   "outputs": [
    {
     "name": "stdout",
     "output_type": "stream",
     "text": [
      "(100987139, 25)\n",
      "mean size: 60.406123807649585\n"
     ]
    },
    {
     "data": {
      "text/html": [
       "<div>\n",
       "<style scoped>\n",
       "    .dataframe tbody tr th:only-of-type {\n",
       "        vertical-align: middle;\n",
       "    }\n",
       "\n",
       "    .dataframe tbody tr th {\n",
       "        vertical-align: top;\n",
       "    }\n",
       "\n",
       "    .dataframe thead th {\n",
       "        text-align: right;\n",
       "    }\n",
       "</style>\n",
       "<table border=\"1\" class=\"dataframe\">\n",
       "  <thead>\n",
       "    <tr style=\"text-align: right;\">\n",
       "      <th></th>\n",
       "      <th>session</th>\n",
       "      <th>aid</th>\n",
       "      <th>score_click</th>\n",
       "      <th>score_cart</th>\n",
       "      <th>score_buy</th>\n",
       "      <th>score_click_only</th>\n",
       "      <th>score_cart_only</th>\n",
       "      <th>score_buy_only</th>\n",
       "      <th>session_action_count</th>\n",
       "      <th>n_clicks_5</th>\n",
       "      <th>...</th>\n",
       "      <th>n_carts_15_ver0</th>\n",
       "      <th>n_carts_15_ver1</th>\n",
       "      <th>n_carts_20_ver0</th>\n",
       "      <th>n_carts_20_ver1</th>\n",
       "      <th>n_buys_5_ver0</th>\n",
       "      <th>n_buys_5_ver1</th>\n",
       "      <th>n_buys_15_ver0</th>\n",
       "      <th>n_buys_15_ver1</th>\n",
       "      <th>n_buys_20_ver0</th>\n",
       "      <th>n_buys_20_ver1</th>\n",
       "    </tr>\n",
       "  </thead>\n",
       "  <tbody>\n",
       "    <tr>\n",
       "      <th>0</th>\n",
       "      <td>12899779</td>\n",
       "      <td>59625</td>\n",
       "      <td>0.071773</td>\n",
       "      <td>0.071773</td>\n",
       "      <td>0.0</td>\n",
       "      <td>0.071773</td>\n",
       "      <td>0.0</td>\n",
       "      <td>0.0</td>\n",
       "      <td>1</td>\n",
       "      <td>-1</td>\n",
       "      <td>...</td>\n",
       "      <td>-1</td>\n",
       "      <td>-1</td>\n",
       "      <td>-1</td>\n",
       "      <td>-1</td>\n",
       "      <td>-1</td>\n",
       "      <td>-1</td>\n",
       "      <td>-1</td>\n",
       "      <td>-1</td>\n",
       "      <td>-1</td>\n",
       "      <td>-1</td>\n",
       "    </tr>\n",
       "    <tr>\n",
       "      <th>1</th>\n",
       "      <td>12899780</td>\n",
       "      <td>582732</td>\n",
       "      <td>0.252664</td>\n",
       "      <td>0.252664</td>\n",
       "      <td>0.0</td>\n",
       "      <td>0.252664</td>\n",
       "      <td>0.0</td>\n",
       "      <td>0.0</td>\n",
       "      <td>5</td>\n",
       "      <td>8</td>\n",
       "      <td>...</td>\n",
       "      <td>4</td>\n",
       "      <td>4</td>\n",
       "      <td>7</td>\n",
       "      <td>6</td>\n",
       "      <td>-1</td>\n",
       "      <td>-1</td>\n",
       "      <td>-1</td>\n",
       "      <td>-1</td>\n",
       "      <td>-1</td>\n",
       "      <td>-1</td>\n",
       "    </tr>\n",
       "    <tr>\n",
       "      <th>2</th>\n",
       "      <td>12899780</td>\n",
       "      <td>736515</td>\n",
       "      <td>0.711190</td>\n",
       "      <td>0.711190</td>\n",
       "      <td>0.0</td>\n",
       "      <td>0.711190</td>\n",
       "      <td>0.0</td>\n",
       "      <td>0.0</td>\n",
       "      <td>5</td>\n",
       "      <td>13</td>\n",
       "      <td>...</td>\n",
       "      <td>33</td>\n",
       "      <td>32</td>\n",
       "      <td>39</td>\n",
       "      <td>40</td>\n",
       "      <td>-1</td>\n",
       "      <td>-1</td>\n",
       "      <td>-1</td>\n",
       "      <td>-1</td>\n",
       "      <td>-1</td>\n",
       "      <td>-1</td>\n",
       "    </tr>\n",
       "    <tr>\n",
       "      <th>3</th>\n",
       "      <td>12899780</td>\n",
       "      <td>973453</td>\n",
       "      <td>0.464086</td>\n",
       "      <td>0.464086</td>\n",
       "      <td>0.0</td>\n",
       "      <td>0.464086</td>\n",
       "      <td>0.0</td>\n",
       "      <td>0.0</td>\n",
       "      <td>5</td>\n",
       "      <td>-1</td>\n",
       "      <td>...</td>\n",
       "      <td>-1</td>\n",
       "      <td>-1</td>\n",
       "      <td>-1</td>\n",
       "      <td>-1</td>\n",
       "      <td>-1</td>\n",
       "      <td>-1</td>\n",
       "      <td>-1</td>\n",
       "      <td>-1</td>\n",
       "      <td>-1</td>\n",
       "      <td>-1</td>\n",
       "    </tr>\n",
       "    <tr>\n",
       "      <th>4</th>\n",
       "      <td>12899780</td>\n",
       "      <td>1142000</td>\n",
       "      <td>1.071773</td>\n",
       "      <td>1.071773</td>\n",
       "      <td>0.0</td>\n",
       "      <td>1.071773</td>\n",
       "      <td>0.0</td>\n",
       "      <td>0.0</td>\n",
       "      <td>5</td>\n",
       "      <td>0</td>\n",
       "      <td>...</td>\n",
       "      <td>6</td>\n",
       "      <td>7</td>\n",
       "      <td>10</td>\n",
       "      <td>11</td>\n",
       "      <td>-1</td>\n",
       "      <td>-1</td>\n",
       "      <td>-1</td>\n",
       "      <td>-1</td>\n",
       "      <td>-1</td>\n",
       "      <td>-1</td>\n",
       "    </tr>\n",
       "  </tbody>\n",
       "</table>\n",
       "<p>5 rows × 25 columns</p>\n",
       "</div>"
      ],
      "text/plain": [
       "    session      aid  score_click  score_cart  score_buy  score_click_only  \\\n",
       "0  12899779    59625     0.071773    0.071773        0.0          0.071773   \n",
       "1  12899780   582732     0.252664    0.252664        0.0          0.252664   \n",
       "2  12899780   736515     0.711190    0.711190        0.0          0.711190   \n",
       "3  12899780   973453     0.464086    0.464086        0.0          0.464086   \n",
       "4  12899780  1142000     1.071773    1.071773        0.0          1.071773   \n",
       "\n",
       "   score_cart_only  score_buy_only  session_action_count  n_clicks_5  ...  \\\n",
       "0              0.0             0.0                     1          -1  ...   \n",
       "1              0.0             0.0                     5           8  ...   \n",
       "2              0.0             0.0                     5          13  ...   \n",
       "3              0.0             0.0                     5          -1  ...   \n",
       "4              0.0             0.0                     5           0  ...   \n",
       "\n",
       "   n_carts_15_ver0  n_carts_15_ver1  n_carts_20_ver0  n_carts_20_ver1  \\\n",
       "0               -1               -1               -1               -1   \n",
       "1                4                4                7                6   \n",
       "2               33               32               39               40   \n",
       "3               -1               -1               -1               -1   \n",
       "4                6                7               10               11   \n",
       "\n",
       "   n_buys_5_ver0  n_buys_5_ver1  n_buys_15_ver0  n_buys_15_ver1  \\\n",
       "0             -1             -1              -1              -1   \n",
       "1             -1             -1              -1              -1   \n",
       "2             -1             -1              -1              -1   \n",
       "3             -1             -1              -1              -1   \n",
       "4             -1             -1              -1              -1   \n",
       "\n",
       "   n_buys_20_ver0  n_buys_20_ver1  \n",
       "0              -1              -1  \n",
       "1              -1              -1  \n",
       "2              -1              -1  \n",
       "3              -1              -1  \n",
       "4              -1              -1  \n",
       "\n",
       "[5 rows x 25 columns]"
      ]
     },
     "execution_count": 25,
     "metadata": {},
     "output_type": "execute_result"
    }
   ],
   "source": [
    "test_group = reduce_memory(test_group)\n",
    "print(test_group.shape)\n",
    "print('mean size:', test_group.groupby('session').size().mean())\n",
    "test_group.head()"
   ]
  },
  {
   "cell_type": "code",
   "execution_count": 26,
   "metadata": {},
   "outputs": [
    {
     "data": {
      "text/plain": [
       "count    1.671803e+06\n",
       "mean     6.040612e+01\n",
       "std      3.357716e+01\n",
       "min      1.000000e+00\n",
       "25%      3.600000e+01\n",
       "50%      4.600000e+01\n",
       "75%      7.600000e+01\n",
       "max      4.720000e+02\n",
       "dtype: float64"
      ]
     },
     "execution_count": 26,
     "metadata": {},
     "output_type": "execute_result"
    }
   ],
   "source": [
    "test_group.groupby('session').size().describe()"
   ]
  },
  {
   "cell_type": "markdown",
   "metadata": {
    "id": "EQoH9mtLUGl8"
   },
   "source": [
    "## popular items"
   ]
  },
  {
   "cell_type": "code",
   "execution_count": 27,
   "metadata": {
    "id": "Hov55IWmNiwz"
   },
   "outputs": [],
   "source": [
    "# ここでいったん保存したい\n",
    "if valid_flag:\n",
    "    test_group.to_parquet(f'{output_path}/train_{Ntop}_{OUTPUT_SPLIT_NUM}_wo_rank.parquet')\n",
    "else:\n",
    "    test_group.to_parquet(f'{output_path}/test_{Ntop}_{OUTPUT_SPLIT_NUM}_wo_rank.parquet')"
   ]
  },
  {
   "cell_type": "code",
   "execution_count": 28,
   "metadata": {
    "id": "psvXOdQuY6gp"
   },
   "outputs": [],
   "source": [
    "# read tmp df\n",
    "if valid_flag:\n",
    "    test_group = pd.read_parquet(f'{output_path}/train_{Ntop}_{OUTPUT_SPLIT_NUM}_wo_rank.parquet')\n",
    "else:\n",
    "    test_group = pd.read_parquet(f'{output_path}/test_{Ntop}_{OUTPUT_SPLIT_NUM}_wo_rank.parquet')"
   ]
  },
  {
   "cell_type": "code",
   "execution_count": 29,
   "metadata": {
    "id": "30jaQ89tHqzQ"
   },
   "outputs": [
    {
     "data": {
      "text/plain": [
       "0"
      ]
     },
     "execution_count": 29,
     "metadata": {},
     "output_type": "execute_result"
    }
   ],
   "source": [
    "top_df = set(list(top_clicks[:40]) + list(top_carts[:40]) + list(top_orders[:40]))\n",
    "top_df = pd.DataFrame(top_df, columns=['aid'])\n",
    "top_df['dammy'] = 1\n",
    "\n",
    "# cross join by dammy key\n",
    "tmp = pd.DataFrame(test_group['session'].unique(), columns=['session'])\n",
    "tmp['dammy'] = 1\n",
    "top_df = top_df.merge(tmp, on='dammy').drop('dammy', axis = 1)\n",
    "top_df['aid'] = top_df['aid'].astype('int32')\n",
    "del tmp\n",
    "gc.collect()"
   ]
  },
  {
   "cell_type": "code",
   "execution_count": 30,
   "metadata": {
    "colab": {
     "base_uri": "https://localhost:8080/",
     "height": 35
    },
    "executionInfo": {
     "elapsed": 0,
     "status": "ok",
     "timestamp": 1673806065189,
     "user": {
      "displayName": "テッツォ",
      "userId": "07789339878611604425"
     },
     "user_tz": -540
    },
    "id": "8b6UoA_KEohp",
    "outputId": "e042cd28-4c15-45d7-9adf-776fca177be0"
   },
   "outputs": [
    {
     "data": {
      "text/plain": [
       "0"
      ]
     },
     "execution_count": 30,
     "metadata": {},
     "output_type": "execute_result"
    }
   ],
   "source": [
    "test_group = test_group.merge(top_df, how = 'outer', on = ['session', 'aid'])\n",
    "test_group = reduce_memory(test_group)\n",
    "del top_df\n",
    "gc.collect()"
   ]
  },
  {
   "cell_type": "code",
   "execution_count": 31,
   "metadata": {
    "colab": {
     "base_uri": "https://localhost:8080/"
    },
    "executionInfo": {
     "elapsed": 0,
     "status": "ok",
     "timestamp": 1673806065048,
     "user": {
      "displayName": "テッツォ",
      "userId": "07789339878611604425"
     },
     "user_tz": -540
    },
    "id": "0wDP9fLuDNrb",
    "outputId": "be92a361-3b1a-46c7-e94b-25d02ca53d46"
   },
   "outputs": [
    {
     "name": "stdout",
     "output_type": "stream",
     "text": [
      "(216601197, 25)\n"
     ]
    },
    {
     "data": {
      "text/html": [
       "<div>\n",
       "<style scoped>\n",
       "    .dataframe tbody tr th:only-of-type {\n",
       "        vertical-align: middle;\n",
       "    }\n",
       "\n",
       "    .dataframe tbody tr th {\n",
       "        vertical-align: top;\n",
       "    }\n",
       "\n",
       "    .dataframe thead th {\n",
       "        text-align: right;\n",
       "    }\n",
       "</style>\n",
       "<table border=\"1\" class=\"dataframe\">\n",
       "  <thead>\n",
       "    <tr style=\"text-align: right;\">\n",
       "      <th></th>\n",
       "      <th>session</th>\n",
       "      <th>aid</th>\n",
       "      <th>score_click</th>\n",
       "      <th>score_cart</th>\n",
       "      <th>score_buy</th>\n",
       "      <th>score_click_only</th>\n",
       "      <th>score_cart_only</th>\n",
       "      <th>score_buy_only</th>\n",
       "      <th>session_action_count</th>\n",
       "      <th>n_clicks_5</th>\n",
       "      <th>...</th>\n",
       "      <th>n_carts_15_ver0</th>\n",
       "      <th>n_carts_15_ver1</th>\n",
       "      <th>n_carts_20_ver0</th>\n",
       "      <th>n_carts_20_ver1</th>\n",
       "      <th>n_buys_5_ver0</th>\n",
       "      <th>n_buys_5_ver1</th>\n",
       "      <th>n_buys_15_ver0</th>\n",
       "      <th>n_buys_15_ver1</th>\n",
       "      <th>n_buys_20_ver0</th>\n",
       "      <th>n_buys_20_ver1</th>\n",
       "    </tr>\n",
       "  </thead>\n",
       "  <tbody>\n",
       "    <tr>\n",
       "      <th>0</th>\n",
       "      <td>12899779</td>\n",
       "      <td>59625</td>\n",
       "      <td>0.071773</td>\n",
       "      <td>0.071773</td>\n",
       "      <td>0.0</td>\n",
       "      <td>0.071773</td>\n",
       "      <td>0.0</td>\n",
       "      <td>0.0</td>\n",
       "      <td>1</td>\n",
       "      <td>-1</td>\n",
       "      <td>...</td>\n",
       "      <td>-1</td>\n",
       "      <td>-1</td>\n",
       "      <td>-1</td>\n",
       "      <td>-1</td>\n",
       "      <td>-1</td>\n",
       "      <td>-1</td>\n",
       "      <td>-1</td>\n",
       "      <td>-1</td>\n",
       "      <td>-1</td>\n",
       "      <td>-1</td>\n",
       "    </tr>\n",
       "    <tr>\n",
       "      <th>1</th>\n",
       "      <td>12899780</td>\n",
       "      <td>582732</td>\n",
       "      <td>0.252664</td>\n",
       "      <td>0.252664</td>\n",
       "      <td>0.0</td>\n",
       "      <td>0.252664</td>\n",
       "      <td>0.0</td>\n",
       "      <td>0.0</td>\n",
       "      <td>5</td>\n",
       "      <td>8</td>\n",
       "      <td>...</td>\n",
       "      <td>4</td>\n",
       "      <td>4</td>\n",
       "      <td>7</td>\n",
       "      <td>6</td>\n",
       "      <td>-1</td>\n",
       "      <td>-1</td>\n",
       "      <td>-1</td>\n",
       "      <td>-1</td>\n",
       "      <td>-1</td>\n",
       "      <td>-1</td>\n",
       "    </tr>\n",
       "    <tr>\n",
       "      <th>2</th>\n",
       "      <td>12899780</td>\n",
       "      <td>736515</td>\n",
       "      <td>0.711190</td>\n",
       "      <td>0.711190</td>\n",
       "      <td>0.0</td>\n",
       "      <td>0.711190</td>\n",
       "      <td>0.0</td>\n",
       "      <td>0.0</td>\n",
       "      <td>5</td>\n",
       "      <td>13</td>\n",
       "      <td>...</td>\n",
       "      <td>33</td>\n",
       "      <td>32</td>\n",
       "      <td>39</td>\n",
       "      <td>40</td>\n",
       "      <td>-1</td>\n",
       "      <td>-1</td>\n",
       "      <td>-1</td>\n",
       "      <td>-1</td>\n",
       "      <td>-1</td>\n",
       "      <td>-1</td>\n",
       "    </tr>\n",
       "    <tr>\n",
       "      <th>3</th>\n",
       "      <td>12899780</td>\n",
       "      <td>973453</td>\n",
       "      <td>0.464086</td>\n",
       "      <td>0.464086</td>\n",
       "      <td>0.0</td>\n",
       "      <td>0.464086</td>\n",
       "      <td>0.0</td>\n",
       "      <td>0.0</td>\n",
       "      <td>5</td>\n",
       "      <td>-1</td>\n",
       "      <td>...</td>\n",
       "      <td>-1</td>\n",
       "      <td>-1</td>\n",
       "      <td>-1</td>\n",
       "      <td>-1</td>\n",
       "      <td>-1</td>\n",
       "      <td>-1</td>\n",
       "      <td>-1</td>\n",
       "      <td>-1</td>\n",
       "      <td>-1</td>\n",
       "      <td>-1</td>\n",
       "    </tr>\n",
       "    <tr>\n",
       "      <th>4</th>\n",
       "      <td>12899780</td>\n",
       "      <td>1142000</td>\n",
       "      <td>1.071773</td>\n",
       "      <td>1.071773</td>\n",
       "      <td>0.0</td>\n",
       "      <td>1.071773</td>\n",
       "      <td>0.0</td>\n",
       "      <td>0.0</td>\n",
       "      <td>5</td>\n",
       "      <td>0</td>\n",
       "      <td>...</td>\n",
       "      <td>6</td>\n",
       "      <td>7</td>\n",
       "      <td>10</td>\n",
       "      <td>11</td>\n",
       "      <td>-1</td>\n",
       "      <td>-1</td>\n",
       "      <td>-1</td>\n",
       "      <td>-1</td>\n",
       "      <td>-1</td>\n",
       "      <td>-1</td>\n",
       "    </tr>\n",
       "  </tbody>\n",
       "</table>\n",
       "<p>5 rows × 25 columns</p>\n",
       "</div>"
      ],
      "text/plain": [
       "    session      aid  score_click  score_cart  score_buy  score_click_only  \\\n",
       "0  12899779    59625     0.071773    0.071773        0.0          0.071773   \n",
       "1  12899780   582732     0.252664    0.252664        0.0          0.252664   \n",
       "2  12899780   736515     0.711190    0.711190        0.0          0.711190   \n",
       "3  12899780   973453     0.464086    0.464086        0.0          0.464086   \n",
       "4  12899780  1142000     1.071773    1.071773        0.0          1.071773   \n",
       "\n",
       "   score_cart_only  score_buy_only  session_action_count  n_clicks_5  ...  \\\n",
       "0              0.0             0.0                     1          -1  ...   \n",
       "1              0.0             0.0                     5           8  ...   \n",
       "2              0.0             0.0                     5          13  ...   \n",
       "3              0.0             0.0                     5          -1  ...   \n",
       "4              0.0             0.0                     5           0  ...   \n",
       "\n",
       "   n_carts_15_ver0  n_carts_15_ver1  n_carts_20_ver0  n_carts_20_ver1  \\\n",
       "0               -1               -1               -1               -1   \n",
       "1                4                4                7                6   \n",
       "2               33               32               39               40   \n",
       "3               -1               -1               -1               -1   \n",
       "4                6                7               10               11   \n",
       "\n",
       "   n_buys_5_ver0  n_buys_5_ver1  n_buys_15_ver0  n_buys_15_ver1  \\\n",
       "0             -1             -1              -1              -1   \n",
       "1             -1             -1              -1              -1   \n",
       "2             -1             -1              -1              -1   \n",
       "3             -1             -1              -1              -1   \n",
       "4             -1             -1              -1              -1   \n",
       "\n",
       "   n_buys_20_ver0  n_buys_20_ver1  \n",
       "0              -1              -1  \n",
       "1              -1              -1  \n",
       "2              -1              -1  \n",
       "3              -1              -1  \n",
       "4              -1              -1  \n",
       "\n",
       "[5 rows x 25 columns]"
      ]
     },
     "execution_count": 31,
     "metadata": {},
     "output_type": "execute_result"
    }
   ],
   "source": [
    "print(test_group.shape)\n",
    "test_group.head()"
   ]
  },
  {
   "cell_type": "markdown",
   "metadata": {
    "id": "rApCp4mVyLAk"
   },
   "source": [
    "# 正解ラベル定義"
   ]
  },
  {
   "cell_type": "code",
   "execution_count": 32,
   "metadata": {
    "colab": {
     "base_uri": "https://localhost:8080/"
    },
    "executionInfo": {
     "elapsed": 461652,
     "status": "ok",
     "timestamp": 1673806526675,
     "user": {
      "displayName": "テッツォ",
      "userId": "07789339878611604425"
     },
     "user_tz": -540
    },
    "id": "B-nLMtZuwCU3",
    "outputId": "d954dcb2-b13b-4521-e61a-81cefce8c7f6"
   },
   "outputs": [],
   "source": [
    "if valid_flag:\n",
    "    for t in ['clicks','carts','orders']:\n",
    "        print(t, '*******')\n",
    "        test_labels = pd.read_parquet(f'{input_path}/test_labels.parquet')\n",
    "        test_labels = test_labels.loc[test_labels['type']==t].rename(columns={'ground_truth': 'aid'})\n",
    "        test_labels = test_labels.explode('aid')[['session', 'aid']].reset_index(drop=True)\n",
    "        test_labels['session'] = test_labels['session'].astype('int32')\n",
    "        test_labels['aid'] = test_labels['aid'].astype('int32')\n",
    "        test_labels[f'y_{t}'] = 1\n",
    "        test_labels[f'y_{t}'] = test_labels[f'y_{t}'].astype('bool')\n",
    "    \n",
    "        test_group = test_group.merge(test_labels, how='left', on=['session', 'aid'])\n",
    "        test_group[f'y_{t}'] = test_group[f'y_{t}'].fillna(0).astype('bool')\n",
    "    del test_labels\n",
    "    gc.collect()"
   ]
  },
  {
   "cell_type": "code",
   "execution_count": 33,
   "metadata": {
    "id": "nZktasHge3Nl"
   },
   "outputs": [],
   "source": [
    "# 負例しかないものは学習に使えないので削る（学習のみ）\n",
    "if valid_flag:\n",
    "    true_df = (test_group.groupby('session')['y_clicks'].agg('sum') > 0) | (test_group.groupby('session')['y_carts'].agg('sum') > 0) | (test_group.groupby('session')['y_orders'].agg('sum') > 0)\n",
    "    session = pd.DataFrame(true_df[true_df]).reset_index()['session']\n",
    "    test_group = test_group.merge(session, how = 'inner', on = 'session')\n",
    "    del true_df, session\n",
    "    gc.collect()"
   ]
  },
  {
   "cell_type": "code",
   "execution_count": 34,
   "metadata": {
    "id": "Bv-FY_xKth5R"
   },
   "outputs": [
    {
     "data": {
      "text/html": [
       "<div>\n",
       "<style scoped>\n",
       "    .dataframe tbody tr th:only-of-type {\n",
       "        vertical-align: middle;\n",
       "    }\n",
       "\n",
       "    .dataframe tbody tr th {\n",
       "        vertical-align: top;\n",
       "    }\n",
       "\n",
       "    .dataframe thead th {\n",
       "        text-align: right;\n",
       "    }\n",
       "</style>\n",
       "<table border=\"1\" class=\"dataframe\">\n",
       "  <thead>\n",
       "    <tr style=\"text-align: right;\">\n",
       "      <th></th>\n",
       "      <th>session</th>\n",
       "      <th>aid</th>\n",
       "      <th>score_click</th>\n",
       "      <th>score_cart</th>\n",
       "      <th>score_buy</th>\n",
       "      <th>score_click_only</th>\n",
       "      <th>score_cart_only</th>\n",
       "      <th>score_buy_only</th>\n",
       "      <th>session_action_count</th>\n",
       "      <th>n_clicks_5</th>\n",
       "      <th>...</th>\n",
       "      <th>n_carts_15_ver0</th>\n",
       "      <th>n_carts_15_ver1</th>\n",
       "      <th>n_carts_20_ver0</th>\n",
       "      <th>n_carts_20_ver1</th>\n",
       "      <th>n_buys_5_ver0</th>\n",
       "      <th>n_buys_5_ver1</th>\n",
       "      <th>n_buys_15_ver0</th>\n",
       "      <th>n_buys_15_ver1</th>\n",
       "      <th>n_buys_20_ver0</th>\n",
       "      <th>n_buys_20_ver1</th>\n",
       "    </tr>\n",
       "  </thead>\n",
       "  <tbody>\n",
       "    <tr>\n",
       "      <th>0</th>\n",
       "      <td>12899779</td>\n",
       "      <td>59625</td>\n",
       "      <td>0.071773</td>\n",
       "      <td>0.071773</td>\n",
       "      <td>0.0</td>\n",
       "      <td>0.071773</td>\n",
       "      <td>0.0</td>\n",
       "      <td>0.0</td>\n",
       "      <td>1</td>\n",
       "      <td>-1</td>\n",
       "      <td>...</td>\n",
       "      <td>-1</td>\n",
       "      <td>-1</td>\n",
       "      <td>-1</td>\n",
       "      <td>-1</td>\n",
       "      <td>-1</td>\n",
       "      <td>-1</td>\n",
       "      <td>-1</td>\n",
       "      <td>-1</td>\n",
       "      <td>-1</td>\n",
       "      <td>-1</td>\n",
       "    </tr>\n",
       "    <tr>\n",
       "      <th>1</th>\n",
       "      <td>12899780</td>\n",
       "      <td>582732</td>\n",
       "      <td>0.252664</td>\n",
       "      <td>0.252664</td>\n",
       "      <td>0.0</td>\n",
       "      <td>0.252664</td>\n",
       "      <td>0.0</td>\n",
       "      <td>0.0</td>\n",
       "      <td>5</td>\n",
       "      <td>8</td>\n",
       "      <td>...</td>\n",
       "      <td>4</td>\n",
       "      <td>4</td>\n",
       "      <td>7</td>\n",
       "      <td>6</td>\n",
       "      <td>-1</td>\n",
       "      <td>-1</td>\n",
       "      <td>-1</td>\n",
       "      <td>-1</td>\n",
       "      <td>-1</td>\n",
       "      <td>-1</td>\n",
       "    </tr>\n",
       "    <tr>\n",
       "      <th>2</th>\n",
       "      <td>12899780</td>\n",
       "      <td>736515</td>\n",
       "      <td>0.711190</td>\n",
       "      <td>0.711190</td>\n",
       "      <td>0.0</td>\n",
       "      <td>0.711190</td>\n",
       "      <td>0.0</td>\n",
       "      <td>0.0</td>\n",
       "      <td>5</td>\n",
       "      <td>13</td>\n",
       "      <td>...</td>\n",
       "      <td>33</td>\n",
       "      <td>32</td>\n",
       "      <td>39</td>\n",
       "      <td>40</td>\n",
       "      <td>-1</td>\n",
       "      <td>-1</td>\n",
       "      <td>-1</td>\n",
       "      <td>-1</td>\n",
       "      <td>-1</td>\n",
       "      <td>-1</td>\n",
       "    </tr>\n",
       "    <tr>\n",
       "      <th>3</th>\n",
       "      <td>12899780</td>\n",
       "      <td>973453</td>\n",
       "      <td>0.464086</td>\n",
       "      <td>0.464086</td>\n",
       "      <td>0.0</td>\n",
       "      <td>0.464086</td>\n",
       "      <td>0.0</td>\n",
       "      <td>0.0</td>\n",
       "      <td>5</td>\n",
       "      <td>-1</td>\n",
       "      <td>...</td>\n",
       "      <td>-1</td>\n",
       "      <td>-1</td>\n",
       "      <td>-1</td>\n",
       "      <td>-1</td>\n",
       "      <td>-1</td>\n",
       "      <td>-1</td>\n",
       "      <td>-1</td>\n",
       "      <td>-1</td>\n",
       "      <td>-1</td>\n",
       "      <td>-1</td>\n",
       "    </tr>\n",
       "    <tr>\n",
       "      <th>4</th>\n",
       "      <td>12899780</td>\n",
       "      <td>1142000</td>\n",
       "      <td>1.071773</td>\n",
       "      <td>1.071773</td>\n",
       "      <td>0.0</td>\n",
       "      <td>1.071773</td>\n",
       "      <td>0.0</td>\n",
       "      <td>0.0</td>\n",
       "      <td>5</td>\n",
       "      <td>0</td>\n",
       "      <td>...</td>\n",
       "      <td>6</td>\n",
       "      <td>7</td>\n",
       "      <td>10</td>\n",
       "      <td>11</td>\n",
       "      <td>-1</td>\n",
       "      <td>-1</td>\n",
       "      <td>-1</td>\n",
       "      <td>-1</td>\n",
       "      <td>-1</td>\n",
       "      <td>-1</td>\n",
       "    </tr>\n",
       "    <tr>\n",
       "      <th>...</th>\n",
       "      <td>...</td>\n",
       "      <td>...</td>\n",
       "      <td>...</td>\n",
       "      <td>...</td>\n",
       "      <td>...</td>\n",
       "      <td>...</td>\n",
       "      <td>...</td>\n",
       "      <td>...</td>\n",
       "      <td>...</td>\n",
       "      <td>...</td>\n",
       "      <td>...</td>\n",
       "      <td>...</td>\n",
       "      <td>...</td>\n",
       "      <td>...</td>\n",
       "      <td>...</td>\n",
       "      <td>...</td>\n",
       "      <td>...</td>\n",
       "      <td>...</td>\n",
       "      <td>...</td>\n",
       "      <td>...</td>\n",
       "      <td>...</td>\n",
       "    </tr>\n",
       "    <tr>\n",
       "      <th>216601192</th>\n",
       "      <td>14571577</td>\n",
       "      <td>329725</td>\n",
       "      <td>NaN</td>\n",
       "      <td>NaN</td>\n",
       "      <td>NaN</td>\n",
       "      <td>NaN</td>\n",
       "      <td>NaN</td>\n",
       "      <td>NaN</td>\n",
       "      <td>0</td>\n",
       "      <td>-1</td>\n",
       "      <td>...</td>\n",
       "      <td>-1</td>\n",
       "      <td>-1</td>\n",
       "      <td>-1</td>\n",
       "      <td>-1</td>\n",
       "      <td>-1</td>\n",
       "      <td>-1</td>\n",
       "      <td>-1</td>\n",
       "      <td>-1</td>\n",
       "      <td>-1</td>\n",
       "      <td>-1</td>\n",
       "    </tr>\n",
       "    <tr>\n",
       "      <th>216601193</th>\n",
       "      <td>14571578</td>\n",
       "      <td>329725</td>\n",
       "      <td>NaN</td>\n",
       "      <td>NaN</td>\n",
       "      <td>NaN</td>\n",
       "      <td>NaN</td>\n",
       "      <td>NaN</td>\n",
       "      <td>NaN</td>\n",
       "      <td>0</td>\n",
       "      <td>-1</td>\n",
       "      <td>...</td>\n",
       "      <td>-1</td>\n",
       "      <td>-1</td>\n",
       "      <td>-1</td>\n",
       "      <td>-1</td>\n",
       "      <td>-1</td>\n",
       "      <td>-1</td>\n",
       "      <td>-1</td>\n",
       "      <td>-1</td>\n",
       "      <td>-1</td>\n",
       "      <td>-1</td>\n",
       "    </tr>\n",
       "    <tr>\n",
       "      <th>216601194</th>\n",
       "      <td>14571579</td>\n",
       "      <td>329725</td>\n",
       "      <td>NaN</td>\n",
       "      <td>NaN</td>\n",
       "      <td>NaN</td>\n",
       "      <td>NaN</td>\n",
       "      <td>NaN</td>\n",
       "      <td>NaN</td>\n",
       "      <td>0</td>\n",
       "      <td>-1</td>\n",
       "      <td>...</td>\n",
       "      <td>-1</td>\n",
       "      <td>-1</td>\n",
       "      <td>-1</td>\n",
       "      <td>-1</td>\n",
       "      <td>-1</td>\n",
       "      <td>-1</td>\n",
       "      <td>-1</td>\n",
       "      <td>-1</td>\n",
       "      <td>-1</td>\n",
       "      <td>-1</td>\n",
       "    </tr>\n",
       "    <tr>\n",
       "      <th>216601195</th>\n",
       "      <td>14571580</td>\n",
       "      <td>329725</td>\n",
       "      <td>NaN</td>\n",
       "      <td>NaN</td>\n",
       "      <td>NaN</td>\n",
       "      <td>NaN</td>\n",
       "      <td>NaN</td>\n",
       "      <td>NaN</td>\n",
       "      <td>0</td>\n",
       "      <td>-1</td>\n",
       "      <td>...</td>\n",
       "      <td>-1</td>\n",
       "      <td>-1</td>\n",
       "      <td>-1</td>\n",
       "      <td>-1</td>\n",
       "      <td>-1</td>\n",
       "      <td>-1</td>\n",
       "      <td>-1</td>\n",
       "      <td>-1</td>\n",
       "      <td>-1</td>\n",
       "      <td>-1</td>\n",
       "    </tr>\n",
       "    <tr>\n",
       "      <th>216601196</th>\n",
       "      <td>14571581</td>\n",
       "      <td>329725</td>\n",
       "      <td>NaN</td>\n",
       "      <td>NaN</td>\n",
       "      <td>NaN</td>\n",
       "      <td>NaN</td>\n",
       "      <td>NaN</td>\n",
       "      <td>NaN</td>\n",
       "      <td>0</td>\n",
       "      <td>-1</td>\n",
       "      <td>...</td>\n",
       "      <td>-1</td>\n",
       "      <td>-1</td>\n",
       "      <td>-1</td>\n",
       "      <td>-1</td>\n",
       "      <td>-1</td>\n",
       "      <td>-1</td>\n",
       "      <td>-1</td>\n",
       "      <td>-1</td>\n",
       "      <td>-1</td>\n",
       "      <td>-1</td>\n",
       "    </tr>\n",
       "  </tbody>\n",
       "</table>\n",
       "<p>216601197 rows × 25 columns</p>\n",
       "</div>"
      ],
      "text/plain": [
       "            session      aid  score_click  score_cart  score_buy  \\\n",
       "0          12899779    59625     0.071773    0.071773        0.0   \n",
       "1          12899780   582732     0.252664    0.252664        0.0   \n",
       "2          12899780   736515     0.711190    0.711190        0.0   \n",
       "3          12899780   973453     0.464086    0.464086        0.0   \n",
       "4          12899780  1142000     1.071773    1.071773        0.0   \n",
       "...             ...      ...          ...         ...        ...   \n",
       "216601192  14571577   329725          NaN         NaN        NaN   \n",
       "216601193  14571578   329725          NaN         NaN        NaN   \n",
       "216601194  14571579   329725          NaN         NaN        NaN   \n",
       "216601195  14571580   329725          NaN         NaN        NaN   \n",
       "216601196  14571581   329725          NaN         NaN        NaN   \n",
       "\n",
       "           score_click_only  score_cart_only  score_buy_only  \\\n",
       "0                  0.071773              0.0             0.0   \n",
       "1                  0.252664              0.0             0.0   \n",
       "2                  0.711190              0.0             0.0   \n",
       "3                  0.464086              0.0             0.0   \n",
       "4                  1.071773              0.0             0.0   \n",
       "...                     ...              ...             ...   \n",
       "216601192               NaN              NaN             NaN   \n",
       "216601193               NaN              NaN             NaN   \n",
       "216601194               NaN              NaN             NaN   \n",
       "216601195               NaN              NaN             NaN   \n",
       "216601196               NaN              NaN             NaN   \n",
       "\n",
       "           session_action_count  n_clicks_5  ...  n_carts_15_ver0  \\\n",
       "0                             1          -1  ...               -1   \n",
       "1                             5           8  ...                4   \n",
       "2                             5          13  ...               33   \n",
       "3                             5          -1  ...               -1   \n",
       "4                             5           0  ...                6   \n",
       "...                         ...         ...  ...              ...   \n",
       "216601192                     0          -1  ...               -1   \n",
       "216601193                     0          -1  ...               -1   \n",
       "216601194                     0          -1  ...               -1   \n",
       "216601195                     0          -1  ...               -1   \n",
       "216601196                     0          -1  ...               -1   \n",
       "\n",
       "           n_carts_15_ver1  n_carts_20_ver0  n_carts_20_ver1  n_buys_5_ver0  \\\n",
       "0                       -1               -1               -1             -1   \n",
       "1                        4                7                6             -1   \n",
       "2                       32               39               40             -1   \n",
       "3                       -1               -1               -1             -1   \n",
       "4                        7               10               11             -1   \n",
       "...                    ...              ...              ...            ...   \n",
       "216601192               -1               -1               -1             -1   \n",
       "216601193               -1               -1               -1             -1   \n",
       "216601194               -1               -1               -1             -1   \n",
       "216601195               -1               -1               -1             -1   \n",
       "216601196               -1               -1               -1             -1   \n",
       "\n",
       "           n_buys_5_ver1  n_buys_15_ver0  n_buys_15_ver1  n_buys_20_ver0  \\\n",
       "0                     -1              -1              -1              -1   \n",
       "1                     -1              -1              -1              -1   \n",
       "2                     -1              -1              -1              -1   \n",
       "3                     -1              -1              -1              -1   \n",
       "4                     -1              -1              -1              -1   \n",
       "...                  ...             ...             ...             ...   \n",
       "216601192             -1              -1              -1              -1   \n",
       "216601193             -1              -1              -1              -1   \n",
       "216601194             -1              -1              -1              -1   \n",
       "216601195             -1              -1              -1              -1   \n",
       "216601196             -1              -1              -1              -1   \n",
       "\n",
       "           n_buys_20_ver1  \n",
       "0                      -1  \n",
       "1                      -1  \n",
       "2                      -1  \n",
       "3                      -1  \n",
       "4                      -1  \n",
       "...                   ...  \n",
       "216601192              -1  \n",
       "216601193              -1  \n",
       "216601194              -1  \n",
       "216601195              -1  \n",
       "216601196              -1  \n",
       "\n",
       "[216601197 rows x 25 columns]"
      ]
     },
     "execution_count": 34,
     "metadata": {},
     "output_type": "execute_result"
    }
   ],
   "source": [
    "test_group"
   ]
  },
  {
   "cell_type": "markdown",
   "metadata": {
    "id": "5V0nXRWJzmpC"
   },
   "source": [
    "## Save"
   ]
  },
  {
   "cell_type": "code",
   "execution_count": 35,
   "metadata": {
    "id": "9WdI_y3219X0"
   },
   "outputs": [],
   "source": [
    "if valid_flag:\n",
    "    test_group.to_parquet(f'{output_path}/train_{Ntop}_{OUTPUT_SPLIT_NUM}.parquet')\n",
    "    #test_group.to_parquet(f'{output_path}/train_{Ntop}_tmp.parquet') \n",
    "\n",
    "else:\n",
    "    #test_group.to_parquet(f'{output_path}/test_{Ntop}_{OUTPUT_SPLIT_NUM}_tmp.parquet')\n",
    "    test_group.to_parquet(f'{output_path}/test_{Ntop}_{OUTPUT_SPLIT_NUM}.parquet')"
   ]
  },
  {
   "cell_type": "code",
   "execution_count": 36,
   "metadata": {
    "id": "xVdtPitpP4dy"
   },
   "outputs": [
    {
     "data": {
      "text/plain": [
       "count    1.671803e+06\n",
       "mean     1.295614e+02\n",
       "std      3.355708e+01\n",
       "min      7.100000e+01\n",
       "25%      1.050000e+02\n",
       "50%      1.150000e+02\n",
       "75%      1.460000e+02\n",
       "max      5.320000e+02\n",
       "dtype: float64"
      ]
     },
     "execution_count": 36,
     "metadata": {},
     "output_type": "execute_result"
    }
   ],
   "source": [
    "test_group.groupby('session').size().describe()"
   ]
  },
  {
   "cell_type": "code",
   "execution_count": 20,
   "metadata": {},
   "outputs": [
    {
     "name": "stdout",
     "output_type": "stream",
     "text": [
      "click summary............\n",
      "mean: 0.007220023154005536 sum: 1073848 limit: 0.611693080282125\n",
      "cart summary............\n",
      "mean: 0.001964480620311712 sum: 292181 limit: 0.5046439154181833\n",
      "order summary............\n",
      "mean: 0.001495005110973714 sum: 222355 limit: 0.7088155997513034\n",
      "Total limit recall............\n",
      "0.6378518425044495\n"
     ]
    }
   ],
   "source": [
    "# label情報\n",
    "# all: 2,212,692\n",
    "# click: 1,755,534 gt:1\n",
    "# cart: 306,341 gt: 1.89\n",
    "# order: 150,817 gt: 2.08\n",
    "\n",
    "if valid_flag:\n",
    "    print('click summary............')\n",
    "    a = test_group['y_clicks'].mean()\n",
    "    b = test_group['y_clicks'].sum()\n",
    "    #c = test_group.query('score_click >= -1 or score_cart >= -1 or score_buy >= -1 or (-1 < n_clicks_20_ver0 and n_clicks_20_ver0<20) or (-1 < n_carts and n_carts<20) or (-1 < n_buys and n_buys<20)')['y_clicks'].sum()\n",
    "    l1 = b / 1755534\n",
    "    print('mean:', test_group['y_clicks'].mean(), 'sum:', test_group['y_clicks'].sum(),'limit:', l1)\n",
    "    #print('click<20 sum:',c, 'limit:', c / 1755534)\n",
    "\n",
    "    print('cart summary............')\n",
    "    a = test_group['y_carts'].mean()\n",
    "    b = test_group['y_carts'].sum()\n",
    "    #c = test_group.query('score_click >= -1 or score_cart >= -1 or score_buy >= -1 or (-1 < n_clicks_20 and n_clicks_20<20) or (-1 < n_carts and n_carts<20) or (-1 < n_buys and n_buys<20)')['y_carts'].sum()\n",
    "    l2 = b / (306341*1.89)\n",
    "    print('mean:', test_group['y_carts'].mean(), 'sum:', test_group['y_carts'].sum(),'limit:', l2)\n",
    "    #print('cart<20 sum:',c, 'limit:', c / (306341*1.89))\n",
    "\n",
    "    print('order summary............')\n",
    "    a = test_group['y_orders'].mean()\n",
    "    b = test_group['y_orders'].sum()\n",
    "    #c = test_group.query('score_click >= -1 or score_cart >= -1 or score_buy >= -1 or (-1 < n_clicks_20 and n_clicks_20<20) or (-1 < n_carts and n_carts<20) or (-1 < n_buys and n_buys<20)')['y_orders'].sum()\n",
    "    l3 = b / (150817*2.08)\n",
    "    print('mean:', test_group['y_orders'].mean(), 'sum:', test_group['y_orders'].sum(),'limit:', l3)\n",
    "    #print('order<20 sum:',c, 'limit:', c / (150817*2.08))\n",
    "   \n",
    "    print('Total limit recall............')\n",
    "    print(0.1 * l1 + 0.3 * l2 + 0.6 * l3)"
   ]
  },
  {
   "cell_type": "code",
   "execution_count": null,
   "metadata": {},
   "outputs": [],
   "source": []
  }
 ],
 "metadata": {
  "colab": {
   "authorship_tag": "ABX9TyPWHhpcAvrbB9c2Lj7q56SO",
   "machine_shape": "hm",
   "mount_file_id": "1iVbo0UFcLudZgX1_ABtKGBC63PFhmRFF",
   "provenance": []
  },
  "gpuClass": "standard",
  "kernelspec": {
   "display_name": "Python 3",
   "language": "python",
   "name": "python3"
  },
  "language_info": {
   "codemirror_mode": {
    "name": "ipython",
    "version": 3
   },
   "file_extension": ".py",
   "mimetype": "text/x-python",
   "name": "python",
   "nbconvert_exporter": "python",
   "pygments_lexer": "ipython3",
   "version": "3.8.10"
  }
 },
 "nbformat": 4,
 "nbformat_minor": 1
}
