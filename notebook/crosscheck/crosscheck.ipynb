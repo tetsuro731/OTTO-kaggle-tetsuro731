{
 "cells": [
  {
   "cell_type": "code",
   "execution_count": 1,
   "metadata": {
    "colab": {
     "base_uri": "https://localhost:8080/"
    },
    "executionInfo": {
     "elapsed": 7228,
     "status": "ok",
     "timestamp": 1674477402817,
     "user": {
      "displayName": "テッツォ",
      "userId": "07789339878611604425"
     },
     "user_tz": -540
    },
    "id": "8QrdrLFrx86e",
    "outputId": "9e930ba3-d13a-4ee8-f28a-a681a3840d33"
   },
   "outputs": [],
   "source": [
    "# True: Google Colab Notebook\n",
    "# False: My local PC\n",
    "colab = False\n",
    "if colab: \n",
    "    from google.colab import drive\n",
    "    drive.mount('/content/drive')\n",
    "    !ls /content/drive/MyDrive/output/otto/\n",
    "    base_path = '/content/drive/MyDrive'\n",
    "    notebook_path = base_path + '/otto/notebook'\n",
    "    !pip3 install optuna\n",
    "else:\n",
    "    base_path = '../data'\n",
    "    notebook_path = '.'"
   ]
  },
  {
   "cell_type": "markdown",
   "metadata": {
    "id": "rApCp4mVyLAk"
   },
   "source": [
    "# Preprocessing"
   ]
  },
  {
   "cell_type": "code",
   "execution_count": 2,
   "metadata": {
    "executionInfo": {
     "elapsed": 2201,
     "status": "ok",
     "timestamp": 1674477405015,
     "user": {
      "displayName": "テッツォ",
      "userId": "07789339878611604425"
     },
     "user_tz": -540
    },
    "id": "S8Rxu2iww5-9"
   },
   "outputs": [],
   "source": [
    "# ====================================================\n",
    "# Library\n",
    "# ====================================================\n",
    "import gc\n",
    "import warnings\n",
    "warnings.filterwarnings('ignore')\n",
    "import scipy as sp\n",
    "import numpy as np\n",
    "import pandas as pd\n",
    "pd.set_option('display.max_rows', 500)\n",
    "pd.set_option('display.max_columns', 500)\n",
    "pd.set_option('display.width', 1000)\n",
    "from tqdm.auto import tqdm\n",
    "import itertools\n",
    "from imblearn.under_sampling import RandomUnderSampler\n",
    "import sys\n",
    "sys.path.append(f\"{notebook_path}/../src/\")\n",
    "import feature_engineering as fe"
   ]
  },
  {
   "cell_type": "markdown",
   "metadata": {},
   "source": [
    "## Comparison between tetsuro v.s. Drake"
   ]
  },
  {
   "cell_type": "code",
   "execution_count": 3,
   "metadata": {},
   "outputs": [],
   "source": [
    "# my data\n",
    "my_train = pd.read_parquet(f'{base_path}/output/otto/train_50_0_ver2.parquet')\n",
    "my_train = my_train[['session', 'aid', 'y_orders']]"
   ]
  },
  {
   "cell_type": "code",
   "execution_count": 4,
   "metadata": {},
   "outputs": [
    {
     "name": "stdout",
     "output_type": "stream",
     "text": [
      "tetsuro candidate\n",
      "(169059644, 3)\n",
      "target sum: 224413\n",
      "target mean: 0.0013274190971323705\n"
     ]
    }
   ],
   "source": [
    "print('tetsuro candidate')\n",
    "print(my_train.shape)\n",
    "print('target sum:', my_train['y_orders'].sum())\n",
    "print('target mean:', my_train['y_orders'].mean())"
   ]
  },
  {
   "cell_type": "code",
   "execution_count": 5,
   "metadata": {
    "executionInfo": {
     "elapsed": 18480,
     "status": "ok",
     "timestamp": 1674477423492,
     "user": {
      "displayName": "テッツォ",
      "userId": "07789339878611604425"
     },
     "user_tz": -540
    },
    "id": "oujqBvdabvAs"
   },
   "outputs": [],
   "source": [
    "train = np.load(f'{base_path}/validation/order_validation.pkl', allow_pickle=True)\n",
    "train = train.rename(columns={'candidates': 'aid'})"
   ]
  },
  {
   "cell_type": "code",
   "execution_count": 6,
   "metadata": {},
   "outputs": [
    {
     "name": "stdout",
     "output_type": "stream",
     "text": [
      "drake candidate\n",
      "(181074889, 4)\n",
      "target sum: 223087\n",
      "target mean: 0.0012320151139233889\n"
     ]
    }
   ],
   "source": [
    "print('drake candidate')\n",
    "print(train.shape)\n",
    "print('target sum:', train['candidate_labels'].sum())\n",
    "print('target mean:', train['candidate_labels'].mean())"
   ]
  },
  {
   "cell_type": "code",
   "execution_count": 22,
   "metadata": {},
   "outputs": [],
   "source": [
    "merged_train = train.merge(my_train, how = 'outer', on = ['session','aid'])\n",
    "merged_train['candidate_labels'] = merged_train['candidate_labels'].fillna(0) \n",
    "merged_train['y_orders'] = merged_train['y_orders'].fillna(False) \n",
    "merged_train['label'] = merged_train['candidate_labels'] + merged_train['y_orders']"
   ]
  },
  {
   "cell_type": "code",
   "execution_count": 34,
   "metadata": {},
   "outputs": [
    {
     "name": "stdout",
     "output_type": "stream",
     "text": [
      "merged candidate\n",
      "280559942\n",
      "target sum: 228642\n",
      "target mean: 0.0008149488425542945\n"
     ]
    }
   ],
   "source": [
    "total = merged_train.shape[0]\n",
    "pos = merged_train.query('label>0').shape[0]\n",
    "print('merged candidate')\n",
    "print(total)\n",
    "print('target sum:', pos)\n",
    "print('target mean:', pos/total)"
   ]
  },
  {
   "cell_type": "code",
   "execution_count": 37,
   "metadata": {},
   "outputs": [
    {
     "name": "stdout",
     "output_type": "stream",
     "text": [
      "After candidate merge...\n",
      "num of candidate become: 1.659532312749931 times\n",
      "num of positive: 1.024900599317755 times\n"
     ]
    }
   ],
   "source": [
    "print('After candidate merge...')\n",
    "print('num of candidate become:', 280559942/169059644, \"times\")\n",
    "print('num of positive:', 228642/223087, \"times\")"
   ]
  }
 ],
 "metadata": {
  "colab": {
   "machine_shape": "hm",
   "provenance": []
  },
  "gpuClass": "standard",
  "kernelspec": {
   "display_name": "Python 3",
   "language": "python",
   "name": "python3"
  },
  "language_info": {
   "codemirror_mode": {
    "name": "ipython",
    "version": 3
   },
   "file_extension": ".py",
   "mimetype": "text/x-python",
   "name": "python",
   "nbconvert_exporter": "python",
   "pygments_lexer": "ipython3",
   "version": "3.8.10"
  }
 },
 "nbformat": 4,
 "nbformat_minor": 1
}
